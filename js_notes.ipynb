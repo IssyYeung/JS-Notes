{
 "cells": [
  {
   "cell_type": "markdown",
   "metadata": {},
   "source": [
    "# JavaScript"
   ]
  },
  {
   "cell_type": "markdown",
   "metadata": {},
   "source": [
    "## Numbers"
   ]
  },
  {
   "cell_type": "code",
   "execution_count": 4,
   "metadata": {},
   "outputs": [
    {
     "data": {
      "text/plain": [
       "62"
      ]
     },
     "execution_count": 4,
     "metadata": {},
     "output_type": "execute_result"
    }
   ],
   "source": [
    "50 + (9 * 2) - 8 * 3 / 4 // works how you would expect, BIDMAS applies"
   ]
  },
  {
   "cell_type": "code",
   "execution_count": 5,
   "metadata": {},
   "outputs": [
    {
     "data": {
      "text/plain": [
       "9"
      ]
     },
     "execution_count": 5,
     "metadata": {},
     "output_type": "execute_result"
    }
   ],
   "source": [
    "3**2 // ** means indicies"
   ]
  },
  {
   "cell_type": "code",
   "execution_count": 6,
   "metadata": {},
   "outputs": [
    {
     "data": {
      "text/plain": [
       "2"
      ]
     },
     "execution_count": 6,
     "metadata": {},
     "output_type": "execute_result"
    }
   ],
   "source": [
    "27 % 5 // this is the modulo, it shows the remainder when one is divided by the other, useful to find if odd/even"
   ]
  },
  {
   "cell_type": "code",
   "execution_count": 7,
   "metadata": {},
   "outputs": [
    {
     "data": {
      "text/plain": [
       "NaN"
      ]
     },
     "execution_count": 7,
     "metadata": {},
     "output_type": "execute_result"
    }
   ],
   "source": [
    "0/0 // NaN stands for Not a Number, but it's type is still a \"number\" type"
   ]
  },
  {
   "cell_type": "markdown",
   "metadata": {},
   "source": [
    "## Variables"
   ]
  },
  {
   "cell_type": "code",
   "execution_count": 1,
   "metadata": {},
   "outputs": [],
   "source": [
    "let numHens = 6; // creating variable with name and value, name uses camelCase\n",
    "let numRoosters = 2;\n",
    "let totalChickens = numHens + numRoosters;"
   ]
  },
  {
   "cell_type": "code",
   "execution_count": 2,
   "metadata": {},
   "outputs": [
    {
     "data": {
      "text/plain": [
       "8"
      ]
     },
     "execution_count": 2,
     "metadata": {},
     "output_type": "execute_result"
    }
   ],
   "source": [
    "totalChickens"
   ]
  },
  {
   "cell_type": "code",
   "execution_count": 3,
   "metadata": {},
   "outputs": [
    {
     "data": {
      "text/plain": [
       "7"
      ]
     },
     "execution_count": 3,
     "metadata": {},
     "output_type": "execute_result"
    }
   ],
   "source": [
    "numHens = numHens + 1 // Updates new number of hens"
   ]
  },
  {
   "cell_type": "code",
   "execution_count": 4,
   "metadata": {},
   "outputs": [
    {
     "data": {
      "text/plain": [
       "8"
      ]
     },
     "execution_count": 4,
     "metadata": {},
     "output_type": "execute_result"
    }
   ],
   "source": [
    "totalChickens // but this remains the same as it was, as it is saves as the number 8, not the function"
   ]
  },
  {
   "cell_type": "code",
   "execution_count": 6,
   "metadata": {},
   "outputs": [
    {
     "data": {
      "text/plain": [
       "10"
      ]
     },
     "execution_count": 6,
     "metadata": {},
     "output_type": "execute_result"
    }
   ],
   "source": [
    "numHens += 2 // shorthand way to write numHens = numHens + 2, works with = - or any number"
   ]
  },
  {
   "cell_type": "code",
   "execution_count": 8,
   "metadata": {},
   "outputs": [
    {
     "data": {
      "text/plain": [
       "11"
      ]
     },
     "execution_count": 8,
     "metadata": {},
     "output_type": "execute_result"
    }
   ],
   "source": [
    "numHens ++ // shorthand way to write numHens = numHens + 1, can also use --"
   ]
  },
  {
   "cell_type": "code",
   "execution_count": 9,
   "metadata": {},
   "outputs": [],
   "source": [
    "const daysInWeek = 7 // const not reassignable"
   ]
  },
  {
   "cell_type": "code",
   "execution_count": 10,
   "metadata": {},
   "outputs": [],
   "source": [
    "let isWaterWet = true // booleans values that are either true or false. Variables can change type at any time"
   ]
  },
  {
   "cell_type": "markdown",
   "metadata": {},
   "source": [
    "## Methods (.)"
   ]
  },
  {
   "cell_type": "code",
   "execution_count": 1,
   "metadata": {},
   "outputs": [
    {
     "data": {
      "text/plain": [
       "'D'"
      ]
     },
     "execution_count": 1,
     "metadata": {},
     "output_type": "execute_result"
    }
   ],
   "source": [
    "let favAnimal = \"Dumbo Octopus\" // strings can be inside \"\", '' or ``, just be consistent\n",
    "favAnimal[0] // can pull up specific character like this, zero indexed"
   ]
  },
  {
   "cell_type": "code",
   "execution_count": 2,
   "metadata": {},
   "outputs": [
    {
     "data": {
      "text/plain": [
       "13"
      ]
     },
     "execution_count": 2,
     "metadata": {},
     "output_type": "execute_result"
    }
   ],
   "source": [
    "favAnimal.length // this shows string length, this is a property"
   ]
  },
  {
   "cell_type": "code",
   "execution_count": 3,
   "metadata": {},
   "outputs": [
    {
     "data": {
      "text/plain": [
       "'lollol'"
      ]
     },
     "execution_count": 3,
     "metadata": {},
     "output_type": "execute_result"
    }
   ],
   "source": [
    "\"lol\"+\"lol\" // strings can be added togther (concatinating)"
   ]
  },
  {
   "cell_type": "code",
   "execution_count": 4,
   "metadata": {},
   "outputs": [
    {
     "data": {
      "text/plain": [
       "'lol1'"
      ]
     },
     "execution_count": 4,
     "metadata": {},
     "output_type": "execute_result"
    }
   ],
   "source": [
    "\"lol\" + 1 // if you add strings to numbers it converts both to strings"
   ]
  },
  {
   "cell_type": "code",
   "execution_count": 1,
   "metadata": {},
   "outputs": [
    {
     "data": {
      "text/plain": [
       "'HELLO!'"
      ]
     },
     "execution_count": 1,
     "metadata": {},
     "output_type": "execute_result"
    }
   ],
   "source": [
    "let msg = \"hello!\"\n",
    "let loudMsg = msg.toUpperCase() // this is a method and needs () at end\n",
    "loudMsg"
   ]
  },
  {
   "cell_type": "code",
   "execution_count": 2,
   "metadata": {},
   "outputs": [
    {
     "data": {
      "text/plain": [
       "'Whoops'"
      ]
     },
     "execution_count": 2,
     "metadata": {},
     "output_type": "execute_result"
    }
   ],
   "source": [
    "let input = \"            Whoops            \"\n",
    "input.trim() // this is also a method"
   ]
  },
  {
   "cell_type": "code",
   "execution_count": 3,
   "metadata": {},
   "outputs": [
    {
     "data": {
      "text/plain": [
       "'HELLO!!!!'"
      ]
     },
     "execution_count": 3,
     "metadata": {},
     "output_type": "execute_result"
    }
   ],
   "source": [
    "let newMessage = \"                    hello!!!!                \"\n",
    "newMessage.trim().toUpperCase() // methods can be chained together like this "
   ]
  },
  {
   "cell_type": "code",
   "execution_count": 10,
   "metadata": {},
   "outputs": [
    {
     "data": {
      "text/plain": [
       "1"
      ]
     },
     "execution_count": 10,
     "metadata": {},
     "output_type": "execute_result"
    }
   ],
   "source": [
    "\"abcdefg\".indexOf(\"b\") // this method contains an argument \"b\""
   ]
  },
  {
   "cell_type": "code",
   "execution_count": 11,
   "metadata": {},
   "outputs": [
    {
     "data": {
      "text/plain": [
       "-1"
      ]
     },
     "execution_count": 11,
     "metadata": {},
     "output_type": "execute_result"
    }
   ],
   "source": [
    "\"abcdefg\".indexOf(\"x\") // this does not contain this letter so it shows -1"
   ]
  },
  {
   "cell_type": "code",
   "execution_count": 15,
   "metadata": {},
   "outputs": [
    {
     "data": {
      "text/plain": [
       "'defg'"
      ]
     },
     "execution_count": 15,
     "metadata": {},
     "output_type": "execute_result"
    }
   ],
   "source": [
    "\"abcdefg\".slice(3) // this chops off the first 3 characters"
   ]
  },
  {
   "cell_type": "code",
   "execution_count": 16,
   "metadata": {},
   "outputs": [
    {
     "data": {
      "text/plain": [
       "'de'"
      ]
     },
     "execution_count": 16,
     "metadata": {},
     "output_type": "execute_result"
    }
   ],
   "source": [
    "\"abcdefg\".slice(3, 5) // this just keeps index position 4 and 5"
   ]
  },
  {
   "cell_type": "code",
   "execution_count": 17,
   "metadata": {},
   "outputs": [
    {
     "data": {
      "text/plain": [
       "'fg'"
      ]
     },
     "execution_count": 17,
     "metadata": {},
     "output_type": "execute_result"
    }
   ],
   "source": [
    "\"abcdefg\".slice(-2) // this just gives the last 3 characters"
   ]
  },
  {
   "cell_type": "code",
   "execution_count": 18,
   "metadata": {},
   "outputs": [
    {
     "data": {
      "text/plain": [
       "'haha very funny haha'"
      ]
     },
     "execution_count": 18,
     "metadata": {},
     "output_type": "execute_result"
    }
   ],
   "source": [
    "let laugh = \"haha very funny haha\"\n",
    "laugh"
   ]
  },
  {
   "cell_type": "code",
   "execution_count": 19,
   "metadata": {},
   "outputs": [
    {
     "data": {
      "text/plain": [
       "'lol very funny haha'"
      ]
     },
     "execution_count": 19,
     "metadata": {},
     "output_type": "execute_result"
    }
   ],
   "source": [
    "laugh.replace(\"haha\", \"lol\") // will only work on first instance"
   ]
  },
  {
   "cell_type": "code",
   "execution_count": 20,
   "metadata": {},
   "outputs": [
    {
     "data": {
      "text/plain": [
       "'lollollollollol'"
      ]
     },
     "execution_count": 20,
     "metadata": {},
     "output_type": "execute_result"
    }
   ],
   "source": [
    "\"lol\".repeat(5)"
   ]
  },
  {
   "cell_type": "markdown",
   "metadata": {},
   "source": [
    "## Template Litterals"
   ]
  },
  {
   "cell_type": "code",
   "execution_count": 1,
   "metadata": {},
   "outputs": [],
   "source": [
    "let product = \"apple\"\n",
    "let price = 4\n",
    "let quantity = 3"
   ]
  },
  {
   "cell_type": "code",
   "execution_count": 3,
   "metadata": {},
   "outputs": [
    {
     "data": {
      "text/plain": [
       "'You bought 3 apples and that cost you £12'"
      ]
     },
     "execution_count": 3,
     "metadata": {},
     "output_type": "execute_result"
    }
   ],
   "source": [
    "`You bought ${quantity} ${product}s and that cost you £${price*quantity}` // this is a string template literal\n",
    "// you can embed variables into strings but you must use backticks, not quote marks"
   ]
  },
  {
   "cell_type": "markdown",
   "metadata": {},
   "source": [
    "## Random, Numbers and Math Object"
   ]
  },
  {
   "cell_type": "code",
   "execution_count": 4,
   "metadata": {},
   "outputs": [],
   "source": [
    "// null is intentionally lacking value\n",
    "// undefined has just not been set 'yet'"
   ]
  },
  {
   "cell_type": "code",
   "execution_count": 10,
   "metadata": {},
   "outputs": [
    {
     "data": {
      "text/plain": [
       "3.141592653589793"
      ]
     },
     "execution_count": 10,
     "metadata": {},
     "output_type": "execute_result"
    }
   ],
   "source": [
    "Math.PI // these are math objects and all start with Math. (capiltal M)"
   ]
  },
  {
   "cell_type": "code",
   "execution_count": 6,
   "metadata": {},
   "outputs": [
    {
     "data": {
      "text/plain": [
       "5"
      ]
     },
     "execution_count": 6,
     "metadata": {},
     "output_type": "execute_result"
    }
   ],
   "source": [
    "Math.round(4.9) // rounds"
   ]
  },
  {
   "cell_type": "code",
   "execution_count": 7,
   "metadata": {},
   "outputs": [
    {
     "data": {
      "text/plain": [
       "3"
      ]
     },
     "execution_count": 7,
     "metadata": {},
     "output_type": "execute_result"
    }
   ],
   "source": [
    "Math.floor(3.999) // rounds down"
   ]
  },
  {
   "cell_type": "code",
   "execution_count": 8,
   "metadata": {},
   "outputs": [
    {
     "data": {
      "text/plain": [
       "4"
      ]
     },
     "execution_count": 8,
     "metadata": {},
     "output_type": "execute_result"
    }
   ],
   "source": [
    "Math.ceil(3.111) // rounds up"
   ]
  },
  {
   "cell_type": "code",
   "execution_count": 9,
   "metadata": {},
   "outputs": [
    {
     "data": {
      "text/plain": [
       "32"
      ]
     },
     "execution_count": 9,
     "metadata": {},
     "output_type": "execute_result"
    }
   ],
   "source": [
    "Math.pow(2,5)  // this is 2 to the power of 5"
   ]
  },
  {
   "cell_type": "code",
   "execution_count": 12,
   "metadata": {},
   "outputs": [
    {
     "data": {
      "text/plain": [
       "0.11715067202271268"
      ]
     },
     "execution_count": 12,
     "metadata": {},
     "output_type": "execute_result"
    }
   ],
   "source": [
    "Math.random() // makes random number between 0 and 1, can use maths and rounding to make it between other numbers"
   ]
  },
  {
   "cell_type": "code",
   "execution_count": 13,
   "metadata": {},
   "outputs": [
    {
     "data": {
      "text/plain": [
       "true"
      ]
     },
     "execution_count": 13,
     "metadata": {},
     "output_type": "execute_result"
    }
   ],
   "source": [
    "// comparisons come out as booleans\n",
    "4>2"
   ]
  },
  {
   "cell_type": "code",
   "execution_count": 14,
   "metadata": {},
   "outputs": [],
   "source": [
    "// >= means greater than or equal to\n",
    "// <= means less than or equal to\n",
    "// == means equality (equality of value but not of type, forces them to same type first)\n",
    "// != means not equality \n",
    "// === means strictly equality (equality in type and value, usually use this)\n",
    "// !== strictly not equality "
   ]
  },
  {
   "cell_type": "code",
   "execution_count": 16,
   "metadata": {},
   "outputs": [
    {
     "data": {
      "text/plain": [
       "true"
      ]
     },
     "execution_count": 16,
     "metadata": {},
     "output_type": "execute_result"
    }
   ],
   "source": [
    "3 == \"3\""
   ]
  },
  {
   "cell_type": "code",
   "execution_count": 17,
   "metadata": {},
   "outputs": [
    {
     "data": {
      "text/plain": [
       "true"
      ]
     },
     "execution_count": 17,
     "metadata": {},
     "output_type": "execute_result"
    }
   ],
   "source": [
    "0 == \" \""
   ]
  },
  {
   "cell_type": "code",
   "execution_count": 18,
   "metadata": {},
   "outputs": [
    {
     "data": {
      "text/plain": [
       "true"
      ]
     },
     "execution_count": 18,
     "metadata": {},
     "output_type": "execute_result"
    }
   ],
   "source": [
    "0 == false"
   ]
  },
  {
   "cell_type": "code",
   "execution_count": 19,
   "metadata": {},
   "outputs": [
    {
     "data": {
      "text/plain": [
       "true"
      ]
     },
     "execution_count": 19,
     "metadata": {},
     "output_type": "execute_result"
    }
   ],
   "source": [
    "null == undefined"
   ]
  },
  {
   "cell_type": "code",
   "execution_count": 20,
   "metadata": {},
   "outputs": [
    {
     "data": {
      "text/plain": [
       "false"
      ]
     },
     "execution_count": 20,
     "metadata": {},
     "output_type": "execute_result"
    }
   ],
   "source": [
    "3 === \"3\""
   ]
  },
  {
   "cell_type": "code",
   "execution_count": 21,
   "metadata": {},
   "outputs": [
    {
     "data": {
      "text/plain": [
       "true"
      ]
     },
     "execution_count": 21,
     "metadata": {},
     "output_type": "execute_result"
    }
   ],
   "source": [
    "1 != 2"
   ]
  },
  {
   "cell_type": "code",
   "execution_count": 22,
   "metadata": {},
   "outputs": [
    {
     "data": {
      "text/plain": [
       "false"
      ]
     },
     "execution_count": 22,
     "metadata": {},
     "output_type": "execute_result"
    }
   ],
   "source": [
    "1 != \"1\""
   ]
  },
  {
   "cell_type": "code",
   "execution_count": 23,
   "metadata": {},
   "outputs": [
    {
     "data": {
      "text/plain": [
       "true"
      ]
     },
     "execution_count": 23,
     "metadata": {},
     "output_type": "execute_result"
    }
   ],
   "source": [
    "1 !== \"1\""
   ]
  },
  {
   "cell_type": "markdown",
   "metadata": {},
   "source": [
    "## Console, Alert and prompt"
   ]
  },
  {
   "cell_type": "code",
   "execution_count": 25,
   "metadata": {},
   "outputs": [
    {
     "name": "stdout",
     "output_type": "stream",
     "text": [
      "5 'hi' false\n"
     ]
    }
   ],
   "source": [
    "console.log(1 + 4, \"hi\", false) // if you are working in a file (rather than the colsole) this prints to console"
   ]
  },
  {
   "cell_type": "code",
   "execution_count": 26,
   "metadata": {},
   "outputs": [
    {
     "name": "stderr",
     "output_type": "stream",
     "text": [
      "Whoopsies!\n"
     ]
    }
   ],
   "source": [
    "console.warn(\"Whoopsies!\")"
   ]
  },
  {
   "cell_type": "code",
   "execution_count": 27,
   "metadata": {},
   "outputs": [
    {
     "name": "stderr",
     "output_type": "stream",
     "text": [
      "Oh no!\n"
     ]
    }
   ],
   "source": [
    "console.error(\"Oh no!\")"
   ]
  },
  {
   "cell_type": "code",
   "execution_count": 2,
   "metadata": {},
   "outputs": [],
   "source": [
    "// alert(\"hello!\") // this does not print to console but makes pop up on site"
   ]
  },
  {
   "cell_type": "code",
   "execution_count": 3,
   "metadata": {},
   "outputs": [],
   "source": [
    "// prompt(\"please enter number\") // this will pop up and ask for input"
   ]
  },
  {
   "cell_type": "code",
   "execution_count": 4,
   "metadata": {},
   "outputs": [],
   "source": [
    "// let userInput = prompt(\"please enter number\") // would print user input in console"
   ]
  },
  {
   "cell_type": "code",
   "execution_count": 31,
   "metadata": {},
   "outputs": [],
   "source": [
    "let num = \"6\" // if input is a string"
   ]
  },
  {
   "cell_type": "code",
   "execution_count": 32,
   "metadata": {},
   "outputs": [
    {
     "data": {
      "text/plain": [
       "'61'"
      ]
     },
     "execution_count": 32,
     "metadata": {},
     "output_type": "execute_result"
    }
   ],
   "source": [
    "num + 1 // makes 1 into a string"
   ]
  },
  {
   "cell_type": "code",
   "execution_count": 33,
   "metadata": {},
   "outputs": [
    {
     "data": {
      "text/plain": [
       "7"
      ]
     },
     "execution_count": 33,
     "metadata": {},
     "output_type": "execute_result"
    }
   ],
   "source": [
    "parseInt(num) + 1 // parseInt will make string into number"
   ]
  },
  {
   "cell_type": "markdown",
   "metadata": {},
   "source": [
    "## Conditionals (If, Else-If and Else)"
   ]
  },
  {
   "cell_type": "code",
   "execution_count": 34,
   "metadata": {},
   "outputs": [
    {
     "name": "stdout",
     "output_type": "stream",
     "text": [
      "yay maths!\n"
     ]
    }
   ],
   "source": [
    "if (1 + 1 === 2) {\n",
    "    console.log(\"yay maths!\")\n",
    "}"
   ]
  },
  {
   "cell_type": "code",
   "execution_count": 2,
   "metadata": {},
   "outputs": [
    {
     "name": "stdout",
     "output_type": "stream",
     "text": [
      "Your number is GREATER than 0.5!\n",
      "0.553408904386141\n"
     ]
    }
   ],
   "source": [
    "let random = Math.random();\n",
    "if (random < 0.5) {\n",
    "    console.log(\"Your number is LESS than 0.5!\")\n",
    "}\n",
    "else {\n",
    "    console.log(\"Your number is GREATER than 0.5!\")\n",
    "}\n",
    "console.log(random)"
   ]
  },
  {
   "cell_type": "code",
   "execution_count": 3,
   "metadata": {},
   "outputs": [
    {
     "data": {
      "text/plain": [
       "'Your number is GREATER than 0.5!'"
      ]
     },
     "execution_count": 3,
     "metadata": {},
     "output_type": "execute_result"
    }
   ],
   "source": [
    "// can also be written as...\n",
    "(random < 0.5) ? \"Your number is LESS than 0.5!\" : \"Your number is GREATER than 0.5!\""
   ]
  },
  {
   "cell_type": "code",
   "execution_count": 18,
   "metadata": {},
   "outputs": [
    {
     "name": "stdout",
     "output_type": "stream",
     "text": [
      "Meh\n"
     ]
    }
   ],
   "source": [
    "dayOfWeek = \"Sunday\";\n",
    "if (dayOfWeek === \"Monday\") {\n",
    "    console.log(\"Urg, I hate mondays\")\n",
    "}\n",
    "else if (dayOfWeek === \"Saturday\") {\n",
    "    console.log(\"Yay! I love the weekend\")\n",
    "}\n",
    "else {\n",
    "    console.log(\"Meh\")\n",
    "}"
   ]
  },
  {
   "cell_type": "markdown",
   "metadata": {},
   "source": [
    "### Switch Statement"
   ]
  },
  {
   "cell_type": "code",
   "execution_count": 19,
   "metadata": {},
   "outputs": [
    {
     "name": "stdout",
     "output_type": "stream",
     "text": [
      "Yay! I love the weekend\n"
     ]
    }
   ],
   "source": [
    "// the above statement can be written like this...\n",
    "switch (dayOfWeek) {\n",
    "  case \"Monday\":\n",
    "    console.log(\"Urg, I hate mondays\");\n",
    "    break; // must use break\n",
    "  case \"Saturday\":\n",
    "  case \"Sunday\": // can have multiple cases like this, acts like 'or' statement\n",
    "    console.log(\"Yay! I love the weekend\");\n",
    "    break;\n",
    "  default:\n",
    "    console.log(\"Meh\");\n",
    "}"
   ]
  },
  {
   "cell_type": "markdown",
   "metadata": {},
   "source": [
    "### Nested Conditonals"
   ]
  },
  {
   "cell_type": "code",
   "execution_count": 1,
   "metadata": {},
   "outputs": [
    {
     "name": "stdout",
     "output_type": "stream",
     "text": [
      "Password too short\n"
     ]
    }
   ],
   "source": [
    "// conditionals can be nexted in eachother\n",
    "let password = \"cat\"\n",
    "if (password.length >= 6) {\n",
    "    if (password.indexOf(\" \") === -1) {\n",
    "        console.log(\"Valid Password\")\n",
    "    } else {\n",
    "        console.log(\"Password cannot contain spaces\")\n",
    "    }\n",
    "} else {\n",
    "    console.log(\"Password too short\")\n",
    "}"
   ]
  },
  {
   "cell_type": "markdown",
   "metadata": {},
   "source": [
    "### Truthy, Falsy, 'And', 'Or' and 'Not'"
   ]
  },
  {
   "cell_type": "code",
   "execution_count": 2,
   "metadata": {},
   "outputs": [],
   "source": [
    "// False-y values: false, 0, \"\" (empty string/array/object), null, undefined, NaN\n",
    "//  Everything else (including \" \") is thruth-y"
   ]
  },
  {
   "cell_type": "code",
   "execution_count": 3,
   "metadata": {},
   "outputs": [],
   "source": [
    "// !! will tell you if true or false"
   ]
  },
  {
   "cell_type": "code",
   "execution_count": 4,
   "metadata": {},
   "outputs": [
    {
     "data": {
      "text/plain": [
       "true"
      ]
     },
     "execution_count": 4,
     "metadata": {},
     "output_type": "execute_result"
    }
   ],
   "source": [
    "1 < 3 && 2===2 // && means \"and\" so both must be true"
   ]
  },
  {
   "cell_type": "code",
   "execution_count": 1,
   "metadata": {},
   "outputs": [
    {
     "name": "stdout",
     "output_type": "stream",
     "text": [
      "Password must be over 6 characters and cannot contain spaces\n"
     ]
    }
   ],
   "source": [
    "let password = \"carrots 12345\"\n",
    "if (password.length >= 6 && password.indexOf(\" \") === -1) {\n",
    "        console.log(\"Valid Password\")\n",
    "} else {\n",
    "    console.log(\"Password must be over 6 characters and cannot contain spaces\")\n",
    "}"
   ]
  },
  {
   "cell_type": "code",
   "execution_count": 5,
   "metadata": {},
   "outputs": [
    {
     "data": {
      "text/plain": [
       "true"
      ]
     },
     "execution_count": 5,
     "metadata": {},
     "output_type": "execute_result"
    }
   ],
   "source": [
    "1 > 3 || 2 === 2 // || means \"or\" so if either are true it shows true"
   ]
  },
  {
   "cell_type": "code",
   "execution_count": 2,
   "metadata": {},
   "outputs": [
    {
     "data": {
      "text/plain": [
       "false"
      ]
     },
     "execution_count": 2,
     "metadata": {},
     "output_type": "execute_result"
    }
   ],
   "source": [
    "!(3 < 4) // ! means NOT "
   ]
  },
  {
   "cell_type": "code",
   "execution_count": 1,
   "metadata": {},
   "outputs": [
    {
     "name": "stdout",
     "output_type": "stream",
     "text": [
      "Please enter first name\n"
     ]
    }
   ],
   "source": [
    "let firstName = \"\"\n",
    "if (!firstName) {\n",
    "    console.log(\"Please enter first name\")\n",
    "}"
   ]
  },
  {
   "cell_type": "markdown",
   "metadata": {},
   "source": [
    "## Arrays"
   ]
  },
  {
   "cell_type": "code",
   "execution_count": 2,
   "metadata": {},
   "outputs": [
    {
     "data": {
      "text/plain": [
       "true"
      ]
     },
     "execution_count": 2,
     "metadata": {},
     "output_type": "execute_result"
    }
   ],
   "source": [
    "let stuff = [true, NaN, 12.46, null, undefined, \"so much stuff!\"]; // this is an array\n",
    "stuff[0]"
   ]
  },
  {
   "cell_type": "code",
   "execution_count": 5,
   "metadata": {},
   "outputs": [
    {
     "data": {
      "text/plain": [
       "false"
      ]
     },
     "execution_count": 5,
     "metadata": {},
     "output_type": "execute_result"
    }
   ],
   "source": [
    "stuff[0] = false //  values in an array can be changed like this"
   ]
  },
  {
   "cell_type": "code",
   "execution_count": 6,
   "metadata": {},
   "outputs": [
    {
     "data": {
      "text/plain": [
       "[ false, NaN, 12.46, null, undefined, 'so much stuff!' ]"
      ]
     },
     "execution_count": 6,
     "metadata": {},
     "output_type": "execute_result"
    }
   ],
   "source": [
    "stuff"
   ]
  },
  {
   "cell_type": "code",
   "execution_count": 7,
   "metadata": {},
   "outputs": [
    {
     "data": {
      "text/plain": [
       "[ false,\n",
       "  NaN,\n",
       "  12.46,\n",
       "  null,\n",
       "  undefined,\n",
       "  'so much stuff!',\n",
       "  <4 empty items>,\n",
       "  17 ]"
      ]
     },
     "execution_count": 7,
     "metadata": {},
     "output_type": "execute_result"
    }
   ],
   "source": [
    "stuff[10] = 17 // slots can be empty\n",
    "stuff"
   ]
  },
  {
   "cell_type": "code",
   "execution_count": 3,
   "metadata": {},
   "outputs": [
    {
     "data": {
      "text/plain": [
       "[ true, NaN, 12.46, null, undefined, 'so much stuff!', 34 ]"
      ]
     },
     "execution_count": 3,
     "metadata": {},
     "output_type": "execute_result"
    }
   ],
   "source": [
    "// always starts with array.\n",
    "// push - add to end\n",
    "// pop - remove from end\n",
    "// shift - remove from start\n",
    "// unshift - add to start\n",
    "stuff.push(34)\n",
    "stuff"
   ]
  },
  {
   "cell_type": "code",
   "execution_count": 4,
   "metadata": {},
   "outputs": [
    {
     "data": {
      "text/plain": [
       "[ NaN, 12.46, null, undefined, 'so much stuff!', 34 ]"
      ]
     },
     "execution_count": 4,
     "metadata": {},
     "output_type": "execute_result"
    }
   ],
   "source": [
    "stuff.shift()\n",
    "stuff"
   ]
  },
  {
   "cell_type": "code",
   "execution_count": null,
   "metadata": {},
   "outputs": [],
   "source": [
    "// concat - merge arrays - array1.concat(array2)\n",
    "// includes - look for a value, true of false\n",
    "// indexOf - just like string.indexOf\n",
    "// join - creates a string from an array\n",
    "// reverse - reverses order of an array (changes the origional)\n",
    "// slice - copies a portion on an array (same as with string)\n",
    "// splice - removes/replaces/inserts elements (changes the origional)\n",
    "// sort - sorts an array by converting to string and then alaphabetically"
   ]
  },
  {
   "cell_type": "code",
   "execution_count": 2,
   "metadata": {},
   "outputs": [
    {
     "data": {
      "text/plain": [
       "[ 'January', 'February', 'April', 'June' ]"
      ]
     },
     "execution_count": 2,
     "metadata": {},
     "output_type": "execute_result"
    }
   ],
   "source": [
    "let months = [\"January\", \"February\",\"November\", \"April\", \"June\"]\n",
    "months.splice(2,1) // (delete start from where, how many)\n",
    "months"
   ]
  },
  {
   "cell_type": "code",
   "execution_count": 3,
   "metadata": {},
   "outputs": [
    {
     "data": {
      "text/plain": [
       "[ 'January', 'February', 'March', 'April', 'June' ]"
      ]
     },
     "execution_count": 3,
     "metadata": {},
     "output_type": "execute_result"
    }
   ],
   "source": [
    "months.splice(2, 0, \"March\") // to insert: (where, delete 0, what to insert)\n",
    "months"
   ]
  },
  {
   "cell_type": "code",
   "execution_count": 4,
   "metadata": {},
   "outputs": [
    {
     "data": {
      "text/plain": [
       "[ 'January', 'February', 'March', 'BIRTHDAY-MONTH!', 'June' ]"
      ]
     },
     "execution_count": 4,
     "metadata": {},
     "output_type": "execute_result"
    }
   ],
   "source": [
    "months.splice(3,1,\"BIRTHDAY-MONTH!\") // to replace (can replace 1 thing with more than one and vice versa)\n",
    "months"
   ]
  },
  {
   "cell_type": "code",
   "execution_count": 5,
   "metadata": {},
   "outputs": [
    {
     "data": {
      "text/plain": [
       "[ 1, 2, 3, 4 ]"
      ]
     },
     "execution_count": 5,
     "metadata": {},
     "output_type": "execute_result"
    }
   ],
   "source": [
    "const nums = [1,2,3] // const refers to the assignment of the array, things within the array can still change\n",
    "nums.push(4)\n",
    "nums"
   ]
  },
  {
   "cell_type": "code",
   "execution_count": 7,
   "metadata": {},
   "outputs": [
    {
     "name": "stderr",
     "output_type": "stream",
     "text": [
      "New array can't use nums because used const not let\n"
     ]
    }
   ],
   "source": [
    "// nums = [5,6,7,8]\n",
    "console.error(\"New array can't use nums because used const not let\")"
   ]
  },
  {
   "cell_type": "code",
   "execution_count": 6,
   "metadata": {},
   "outputs": [
    {
     "name": "stdout",
     "output_type": "stream",
     "text": [
      "[ 3, 4, 5 ]\n"
     ]
    }
   ],
   "source": [
    "let nums = [1,2,3,4,5]\n",
    "console.log(nums.filter(i => i > 2))"
   ]
  },
  {
   "cell_type": "markdown",
   "metadata": {},
   "source": [
    "### Nested Arrays"
   ]
  },
  {
   "cell_type": "code",
   "execution_count": 8,
   "metadata": {},
   "outputs": [
    {
     "data": {
      "text/plain": [
       "[ [ 'X', null, 'O' ], [ null, 'X', 'O' ], [ 'O', null, 'X' ] ]"
      ]
     },
     "execution_count": 8,
     "metadata": {},
     "output_type": "execute_result"
    }
   ],
   "source": [
    "const gameBoard = [[\"X\", null, \"O\"], [null, \"X\", \"O\"], [\"O\", null, \"X\"]] // arrays can be nested into more arrays\n",
    "gameBoard"
   ]
  },
  {
   "cell_type": "code",
   "execution_count": 9,
   "metadata": {},
   "outputs": [
    {
     "data": {
      "text/plain": [
       "'X'"
      ]
     },
     "execution_count": 9,
     "metadata": {},
     "output_type": "execute_result"
    }
   ],
   "source": [
    "gameBoard[1][1] // this will pull up the middle \"X\""
   ]
  },
  {
   "cell_type": "markdown",
   "metadata": {},
   "source": [
    "## Object Litterals"
   ]
  },
  {
   "cell_type": "code",
   "execution_count": 1,
   "metadata": {},
   "outputs": [],
   "source": [
    "// object litterals group data, like arrays, but instead of order they have key-value pairs\n",
    "const fitBitData = {\n",
    "    steps: 308727,\n",
    "    miles: 211.7,\n",
    "    avgCalorie: 5755,\n",
    "    workoutsThisWeek: \"5 of 7\",\n",
    "}s"
   ]
  },
  {
   "cell_type": "code",
   "execution_count": 2,
   "metadata": {},
   "outputs": [
    {
     "data": {
      "text/plain": [
       "308727"
      ]
     },
     "execution_count": 2,
     "metadata": {},
     "output_type": "execute_result"
    }
   ],
   "source": [
    "fitBitData[\"steps\"] // need quotes to access value like this, as all keys are converted to strings\n",
    "//could also put variables in [] then dont need quotes"
   ]
  },
  {
   "cell_type": "code",
   "execution_count": 3,
   "metadata": {},
   "outputs": [
    {
     "data": {
      "text/plain": [
       "211.7"
      ]
     },
     "execution_count": 3,
     "metadata": {},
     "output_type": "execute_result"
    }
   ],
   "source": [
    "fitBitData.miles // do not need quotes for this, variables dont work like this"
   ]
  },
  {
   "cell_type": "code",
   "execution_count": 2,
   "metadata": {},
   "outputs": [
    {
     "data": {
      "text/plain": [
       "400000"
      ]
     },
     "execution_count": 2,
     "metadata": {},
     "output_type": "execute_result"
    }
   ],
   "source": [
    "fitBitData.miles = 400000 // to update or add to object"
   ]
  },
  {
   "cell_type": "code",
   "execution_count": 3,
   "metadata": {},
   "outputs": [
    {
     "data": {
      "text/plain": [
       "true"
      ]
     },
     "execution_count": 3,
     "metadata": {},
     "output_type": "execute_result"
    }
   ],
   "source": [
    "fitBitData[\"completedSteps\"] = true // can also be done like this "
   ]
  },
  {
   "cell_type": "code",
   "execution_count": 4,
   "metadata": {},
   "outputs": [
    {
     "data": {
      "text/plain": [
       "{ steps: 308727,\n",
       "  miles: 400000,\n",
       "  avgCalorie: 5755,\n",
       "  workoutsThisWeek: '5 of 7',\n",
       "  completedSteps: true }"
      ]
     },
     "execution_count": 4,
     "metadata": {},
     "output_type": "execute_result"
    }
   ],
   "source": [
    "fitBitData"
   ]
  },
  {
   "cell_type": "markdown",
   "metadata": {},
   "source": [
    "### Nested Object Litterals and Arrays"
   ]
  },
  {
   "cell_type": "code",
   "execution_count": 2,
   "metadata": {},
   "outputs": [],
   "source": [
    "const shoppingCart = [ // arrays and objects can be nested in eachother/themselves\n",
    "    {\n",
    "        product: \"Jenga\",\n",
    "        price: 6.4,\n",
    "        quantity:1\n",
    "    },\n",
    "    {\n",
    "        product: \"Echo Dot\",\n",
    "        price: 29.99,\n",
    "        quantity:2\n",
    "    },\n",
    "    {\n",
    "        product: \"Fire Stick\",\n",
    "        price: 39.99,\n",
    "        quantity:3\n",
    "    }\n",
    "]"
   ]
  },
  {
   "cell_type": "code",
   "execution_count": 3,
   "metadata": {},
   "outputs": [
    {
     "data": {
      "text/plain": [
       "[ { product: 'Jenga', price: 6.4, quantity: 1 },\n",
       "  { product: 'Echo Dot', price: 29.99, quantity: 2 },\n",
       "  { product: 'Fire Stick', price: 39.99, quantity: 3 } ]"
      ]
     },
     "execution_count": 3,
     "metadata": {},
     "output_type": "execute_result"
    }
   ],
   "source": [
    "shoppingCart"
   ]
  },
  {
   "cell_type": "code",
   "execution_count": 4,
   "metadata": {},
   "outputs": [
    {
     "data": {
      "text/plain": [
       "29.99"
      ]
     },
     "execution_count": 4,
     "metadata": {},
     "output_type": "execute_result"
    }
   ],
   "source": [
    "shoppingCart[1].price // things can be accessed by chaining together"
   ]
  },
  {
   "cell_type": "code",
   "execution_count": 5,
   "metadata": {},
   "outputs": [
    {
     "data": {
      "text/plain": [
       "29.99"
      ]
     },
     "execution_count": 5,
     "metadata": {},
     "output_type": "execute_result"
    }
   ],
   "source": [
    "shoppingCart[1][\"price\"] // also works"
   ]
  },
  {
   "cell_type": "markdown",
   "metadata": {},
   "source": [
    "## For Loops"
   ]
  },
  {
   "cell_type": "code",
   "execution_count": 7,
   "metadata": {},
   "outputs": [],
   "source": [
    "//for loop // for ( [initialExpression]; [condition]; [incrementExpression] ) {what you want to happen}"
   ]
  },
  {
   "cell_type": "code",
   "execution_count": 9,
   "metadata": {},
   "outputs": [
    {
     "name": "stdout",
     "output_type": "stream",
     "text": [
      "1\n",
      "2\n",
      "3\n",
      "4\n",
      "5\n",
      "6\n",
      "7\n",
      "8\n",
      "9\n",
      "10\n"
     ]
    }
   ],
   "source": [
    "for baket \n",
    "}"
   ]
  },
  {
   "cell_type": "code",
   "execution_count": 11,
   "metadata": {},
   "outputs": [
    {
     "name": "stdout",
     "output_type": "stream",
     "text": [
      "0\n",
      "2\n",
      "4\n",
      "6\n",
      "8\n",
      "10\n",
      "12\n",
      "14\n",
      "16\n",
      "18\n",
      "20\n"
     ]
    }
   ],
   "source": [
    "for (let i = 0; i <= 20; i += 2){\n",
    "    console.log(i)\n",
    "}"
   ]
  },
  {
   "cell_type": "raw",
   "metadata": {},
   "source": [
    "const food = [\"apples\", \"bananas\", \"carrots\", \"dragon fruit\"]\n",
    "for (let i = 0; i < food.length; i++) {console.log(i, food[i]);}"
   ]
  },
  {
   "cell_type": "markdown",
   "metadata": {},
   "source": [
    "### Nested For Loops "
   ]
  },
  {
   "cell_type": "code",
   "execution_count": 2,
   "metadata": {},
   "outputs": [
    {
     "name": "stdout",
     "output_type": "stream",
     "text": [
      "i is 1\n",
      "        j is 1\n",
      "        j is 2\n",
      "        j is 3\n",
      "i is 2\n",
      "        j is 1\n",
      "        j is 2\n",
      "        j is 3\n",
      "i is 3\n",
      "        j is 1\n",
      "        j is 2\n",
      "        j is 3\n",
      "i is 4\n",
      "        j is 1\n",
      "        j is 2\n",
      "        j is 3\n",
      "i is 5\n",
      "        j is 1\n",
      "        j is 2\n",
      "        j is 3\n"
     ]
    }
   ],
   "source": [
    "// loops can be nested in other loops\n",
    "for (let i = 1; i <= 5; i++){ // for each cycle of this loop\n",
    "    console.log(`i is ${i}`) // print this...\n",
    "    for (let j = 1; j < 4; j++){ // and within that cycle, also run this inner loop \n",
    "        console.log(`        j is ${j}`) // where this is printed every cycle\n",
    "    }\n",
    "}"
   ]
  },
  {
   "cell_type": "code",
   "execution_count": 1,
   "metadata": {},
   "outputs": [
    {
     "data": {
      "text/plain": [
       "[ [ 'Bob', 'Sally', 'Mark' ],\n",
       "  [ 'Paul', 'Laura', 'Bruce', 'Maggie' ],\n",
       "  [ 'Dave', 'Bella', 'Tom', 'Jane' ] ]"
      ]
     },
     "execution_count": 1,
     "metadata": {},
     "output_type": "execute_result"
    }
   ],
   "source": [
    "const seatingPlan = [ // this is a nested array\n",
    "    [\"Bob\", \"Sally\", \"Mark\"],\n",
    "    [\"Paul\", \"Laura\", \"Bruce\", \"Maggie\"],\n",
    "    [\"Dave\", \"Bella\", \"Tom\", \"Jane\"]\n",
    "]\n",
    "seatingPlan"
   ]
  },
  {
   "cell_type": "code",
   "execution_count": 2,
   "metadata": {},
   "outputs": [
    {
     "name": "stdout",
     "output_type": "stream",
     "text": [
      "Row #1\n",
      "Bob\n",
      "Sally\n",
      "Mark\n",
      "Row #2\n",
      "Paul\n",
      "Laura\n",
      "Bruce\n",
      "Maggie\n",
      "Row #3\n",
      "Dave\n",
      "Bella\n",
      "Tom\n",
      "Jane\n"
     ]
    }
   ],
   "source": [
    "for (let i = 0; i < seatingPlan.length; i++) { // for each cycle of this loop:\n",
    "    const row = seatingPlan[i]; // make a new variable called \"row\", which is the index of the outer loop\n",
    "    console.log(`Row #${i + 1}`) // print that variable once (with fancy stuff)\n",
    "    for (let j = 0; j < row.length; j++) { // and run this inner loop\n",
    "        console.log(row[j]) // which prints out all the names\n",
    "    }\n",
    "}"
   ]
  },
  {
   "cell_type": "markdown",
   "metadata": {},
   "source": [
    "## While Loops"
   ]
  },
  {
   "cell_type": "code",
   "execution_count": 1,
   "metadata": {},
   "outputs": [
    {
     "name": "stdout",
     "output_type": "stream",
     "text": [
      "0\n",
      "1\n",
      "2\n",
      "3\n",
      "4\n"
     ]
    },
    {
     "data": {
      "text/plain": [
       "4"
      ]
     },
     "execution_count": 1,
     "metadata": {},
     "output_type": "execute_result"
    }
   ],
   "source": [
    "// While loops continue running as long as the test condition is true\n",
    "let num = 0; // start\n",
    "while (num < 5) { // conditon that must be true to continue looping\n",
    "    console.log(num); // what to do\n",
    "    num++ // what to do (to move onto next cycle)\n",
    "}"
   ]
  },
  {
   "cell_type": "code",
   "execution_count": null,
   "metadata": {},
   "outputs": [],
   "source": [
    "// more useful for something like this (prompt only runs in file)\n",
    "  const password = \"BabyHippo\";\n",
    "  let guess = prompt(\"Enter password\");\n",
    "  while (guess !== password) {\n",
    "       guess = prompt(\"Enter password\");\n",
    "       }\n",
    "  console.log(\"Password correct\")"
   ]
  },
  {
   "cell_type": "code",
   "execution_count": 1,
   "metadata": {},
   "outputs": [
    {
     "name": "stdout",
     "output_type": "stream",
     "text": [
      "21\n"
     ]
    }
   ],
   "source": [
    "let max = 50 // random number generator with set upper limit\n",
    "    while (!max) {\n",
    "        console.log(\"Enter a valid number\")\n",
    "    }\n",
    "const randomNum = (Math.floor(Math.random() * max) + 1);\n",
    "console.log(randomNum)"
   ]
  },
  {
   "cell_type": "markdown",
   "metadata": {},
   "source": [
    "### Do While Loop"
   ]
  },
  {
   "cell_type": "code",
   "execution_count": 16,
   "metadata": {},
   "outputs": [
    {
     "name": "stdout",
     "output_type": "stream",
     "text": [
      "10\n"
     ]
    }
   ],
   "source": [
    "function loopy() {\n",
    "    let x = 10\n",
    "    do {\n",
    "        console.log(x);\n",
    "        x++;\n",
    "    } while (x <= 5)\n",
    "}\n",
    "loopy()\n",
    "// does check after, so if not true, will still always run once anyway\n",
    "// if true, acts like normal while loop"
   ]
  },
  {
   "cell_type": "markdown",
   "metadata": {},
   "source": [
    "### The Break Keyword"
   ]
  },
  {
   "cell_type": "code",
   "execution_count": 1,
   "metadata": {},
   "outputs": [
    {
     "name": "stdout",
     "output_type": "stream",
     "text": [
      "0\n",
      "1\n",
      "2\n",
      "3\n",
      "4\n",
      "Good thing we had that break!\n"
     ]
    }
   ],
   "source": [
    "// break is good for when we don't know how many itterations we need eg. during a game\n",
    "// break also works on for loops\n",
    "let num = 0\n",
    "while (true) {\n",
    "    console.log(num);\n",
    "    num++;\n",
    "    if (num === 5) {break;}\n",
    "}\n",
    "console.log(\"Good thing we had that break!\")"
   ]
  },
  {
   "cell_type": "markdown",
   "metadata": {},
   "source": [
    "## For Of Loops"
   ]
  },
  {
   "cell_type": "code",
   "execution_count": 1,
   "metadata": {},
   "outputs": [
    {
     "name": "stdout",
     "output_type": "stream",
     "text": [
      "apples\n",
      "bananas\n",
      "carrots\n",
      "dogs\n",
      "elephants\n"
     ]
    }
   ],
   "source": [
    "const list = [\"apples\", \"bananas\", \"carrots\", \"dogs\", \"elephants\"] // to access items, we could use for loop...\n",
    "for (let i = 0; i < list.length; i++) { \n",
    "    console.log(list[i])\n",
    "}"
   ]
  },
  {
   "cell_type": "code",
   "execution_count": 2,
   "metadata": {},
   "outputs": [
    {
     "name": "stdout",
     "output_type": "stream",
     "text": [
      "apples\n",
      "bananas\n",
      "carrots\n",
      "dogs\n",
      "elephants\n"
     ]
    }
   ],
   "source": [
    "// or... we could use a for of loop... which is easier to read\n",
    "for (let item of list) {\n",
    "    console.log(item)\n",
    "}\n",
    "// note, this doesn't give us the index"
   ]
  },
  {
   "cell_type": "code",
   "execution_count": 3,
   "metadata": {},
   "outputs": [
    {
     "name": "stdout",
     "output_type": "stream",
     "text": [
      "h\n",
      "e\n",
      "l\n",
      "l\n",
      "o\n",
      " \n",
      "w\n",
      "o\n",
      "r\n",
      "l\n",
      "d\n"
     ]
    }
   ],
   "source": [
    "for (let character of \"hello world\") {\n",
    "    console.log(character)\n",
    "}"
   ]
  },
  {
   "cell_type": "code",
   "execution_count": 4,
   "metadata": {},
   "outputs": [],
   "source": [
    "const seatingPlan = [ // can also be used for nested arrays\n",
    "    [\"Bob\", \"Sally\", \"Mark\"],\n",
    "    [\"Paul\", \"Laura\", \"Bruce\", \"Maggie\"],\n",
    "    [\"Dave\", \"Bella\", \"Tom\", \"Jane\"]\n",
    "]"
   ]
  },
  {
   "cell_type": "code",
   "execution_count": 11,
   "metadata": {},
   "outputs": [
    {
     "name": "stdout",
     "output_type": "stream",
     "text": [
      "New row\n",
      "Bob\n",
      "Sally\n",
      "Mark\n",
      "New row\n",
      "Paul\n",
      "Laura\n",
      "Bruce\n",
      "Maggie\n",
      "New row\n",
      "Dave\n",
      "Bella\n",
      "Tom\n",
      "Jane\n"
     ]
    }
   ],
   "source": [
    "for (let row of seatingPlan) {\n",
    "    console.log(\"New row\")\n",
    "    for (let child of row) {\n",
    "        console.log(child)\n",
    "    }\n",
    "}"
   ]
  },
  {
   "cell_type": "markdown",
   "metadata": {},
   "source": [
    "## For In Loop"
   ]
  },
  {
   "cell_type": "code",
   "execution_count": 1,
   "metadata": {},
   "outputs": [],
   "source": [
    "const testScores = {\n",
    "    Gaby: 99,\n",
    "    Marcus: 84,\n",
    "    Paul: 52,\n",
    "    Sally: 87\n",
    "}"
   ]
  },
  {
   "cell_type": "code",
   "execution_count": 3,
   "metadata": {},
   "outputs": [
    {
     "name": "stdout",
     "output_type": "stream",
     "text": [
      "Gaby\n",
      "Marcus\n",
      "Paul\n",
      "Sally\n"
     ]
    }
   ],
   "source": [
    "for (let person in testScores) { // just gives us the key\n",
    "    console.log(person);\n",
    "}"
   ]
  },
  {
   "cell_type": "code",
   "execution_count": 13,
   "metadata": {},
   "outputs": [
    {
     "name": "stdout",
     "output_type": "stream",
     "text": [
      "Gaby scored 99\n",
      "Marcus scored 84\n",
      "Paul scored 52\n",
      "Sally scored 87\n"
     ]
    }
   ],
   "source": [
    "for (let person in testScores) { // to get values\n",
    "    console.log(`${person} scored ${testScores[person]}`)\n",
    "}"
   ]
  },
  {
   "cell_type": "markdown",
   "metadata": {},
   "source": [
    "### For Await Loops"
   ]
  },
  {
   "cell_type": "code",
   "execution_count": 16,
   "metadata": {},
   "outputs": [
    {
     "name": "stdout",
     "output_type": "stream",
     "text": [
      "h\n",
      "e\n",
      "l\n",
      "l\n",
      "o\n"
     ]
    }
   ],
   "source": [
    "async function forAwait() {\n",
    "    for await (let character of \"hello\") {\n",
    "    console.log(character)\n",
    "    }\n",
    "}\n",
    "forAwait() // can work like a normal for of loop"
   ]
  },
  {
   "cell_type": "code",
   "execution_count": 13,
   "metadata": {},
   "outputs": [
    {
     "name": "stdout",
     "output_type": "stream",
     "text": [
      "oat milk\n",
      "fish\n"
     ]
    }
   ],
   "source": [
    "const asyncArray = [\n",
    "    Promise.resolve(\"oat milk\"), // a promise can be fullfilled, rejected or awaiting\n",
    "    Promise.resolve(\"fish\")\n",
    "]\n",
    "\n",
    "async function forAwaitB() {\n",
    "    for await (let x of asyncArray) {\n",
    "    console.log(x)\n",
    "    }\n",
    "}\n",
    "\n",
    "forAwaitB() // gives back what is inside the promise"
   ]
  },
  {
   "cell_type": "code",
   "execution_count": 15,
   "metadata": {},
   "outputs": [
    {
     "name": "stdout",
     "output_type": "stream",
     "text": [
      "Promise { 'oat milk' }\n",
      "Promise { 'fish' }\n"
     ]
    }
   ],
   "source": [
    "function forOfLoop() {\n",
    "    for (let x of asyncArray) {\n",
    "    console.log(x)\n",
    "    }\n",
    "}\n",
    "forOfLoop() // whereas a normal for of loop gives the whole promise"
   ]
  },
  {
   "cell_type": "markdown",
   "metadata": {},
   "source": [
    "### Making Arrays out of Object Litterals"
   ]
  },
  {
   "cell_type": "code",
   "execution_count": 4,
   "metadata": {},
   "outputs": [
    {
     "data": {
      "text/plain": [
       "[ 'Gaby', 'Marcus', 'Paul', 'Sally' ]"
      ]
     },
     "execution_count": 4,
     "metadata": {},
     "output_type": "execute_result"
    }
   ],
   "source": [
    "Object.keys(testScores) // this gives us an array (capital O)"
   ]
  },
  {
   "cell_type": "code",
   "execution_count": 5,
   "metadata": {},
   "outputs": [
    {
     "data": {
      "text/plain": [
       "[ 99, 84, 52, 87 ]"
      ]
     },
     "execution_count": 5,
     "metadata": {},
     "output_type": "execute_result"
    }
   ],
   "source": [
    "Object.values(testScores)"
   ]
  },
  {
   "cell_type": "code",
   "execution_count": 6,
   "metadata": {},
   "outputs": [
    {
     "data": {
      "text/plain": [
       "[ [ 'Gaby', 99 ],\n",
       "  [ 'Marcus', 84 ],\n",
       "  [ 'Paul', 52 ],\n",
       "  [ 'Sally', 87 ] ]"
      ]
     },
     "execution_count": 6,
     "metadata": {},
     "output_type": "execute_result"
    }
   ],
   "source": [
    "Object.entries(testScores)"
   ]
  },
  {
   "cell_type": "code",
   "execution_count": 2,
   "metadata": {},
   "outputs": [
    {
     "name": "stdout",
     "output_type": "stream",
     "text": [
      "80.5\n"
     ]
    }
   ],
   "source": [
    "// to find the average score ... \n",
    "let total = 0;\n",
    "let people = Object.values(testScores) // objects don't have lengths, so this makes an array instead\n",
    "for (let score of Object.values(testScores)){\n",
    "    total += score // add all scores together\n",
    "}\n",
    "console.log(total/people.length)"
   ]
  },
  {
   "cell_type": "markdown",
   "metadata": {},
   "source": [
    "## Functions"
   ]
  },
  {
   "cell_type": "code",
   "execution_count": null,
   "metadata": {},
   "outputs": [],
   "source": [
    "// function funcName(parameters) { do something }\n",
    "function sing() {\n",
    "    console.log(\"DO\")\n",
    "    console.log(\"RE\")\n",
    "    console.log(\"ME\")\n",
    "}\n",
    "sing() // to execute (argument can go in brackets)"
   ]
  },
  {
   "cell_type": "code",
   "execution_count": 1,
   "metadata": {},
   "outputs": [
    {
     "name": "stdout",
     "output_type": "stream",
     "text": [
      "Hi Dan!\n",
      "Hi Issy!\n"
     ]
    }
   ],
   "source": [
    "function greet(person) {\n",
    "    console.log(`Hi ${person}!`)\n",
    "}\n",
    "let bloke = \"Dan\"\n",
    "greet(bloke)\n",
    "greet(\"Issy\")"
   ]
  },
  {
   "cell_type": "code",
   "execution_count": 2,
   "metadata": {},
   "outputs": [
    {
     "name": "stdout",
     "output_type": "stream",
     "text": [
      "Hi George C.!\n"
     ]
    }
   ],
   "source": [
    "function greet(firstName, lastName) {\n",
    "    console.log(`Hi ${firstName} ${lastName[0]}.!`)\n",
    "}\n",
    "greet(\"George\",  \"Clooney\")"
   ]
  },
  {
   "cell_type": "code",
   "execution_count": 3,
   "metadata": {},
   "outputs": [
    {
     "name": "stdout",
     "output_type": "stream",
     "text": [
      "HIHIHI\n"
     ]
    }
   ],
   "source": [
    "function repeat(msg, reps) {\n",
    "    let result = \"\"\n",
    "    for (let i = 0; i < reps; i++) {\n",
    "         result += msg;\n",
    "    }\n",
    "    console.log(result);\n",
    "}\n",
    "repeat(\"HI\", 3)"
   ]
  },
  {
   "cell_type": "markdown",
   "metadata": {},
   "source": [
    "### Return Keyword"
   ]
  },
  {
   "cell_type": "code",
   "execution_count": 4,
   "metadata": {},
   "outputs": [
    {
     "name": "stdout",
     "output_type": "stream",
     "text": [
      "7\n"
     ]
    }
   ],
   "source": [
    "// Even though functions write results to the console, the are not capturable without \"return\"\n",
    "function add(x, y) {\n",
    "    let sum = x + y;\n",
    "    console.log(sum)\n",
    "}\n",
    "let total = add(3,4)"
   ]
  },
  {
   "cell_type": "code",
   "execution_count": 5,
   "metadata": {},
   "outputs": [],
   "source": [
    "total // undefined! as total didn't save"
   ]
  },
  {
   "cell_type": "code",
   "execution_count": 1,
   "metadata": {},
   "outputs": [],
   "source": [
    "function add(x, y) {\n",
    "    let sum = x + y;\n",
    "    return sum; // this time we use return!!!\n",
    "    console.log(\"End of function\") // this line will never run as return ends the function (good use of if)\n",
    "}\n",
    "let newTotal = add(5,6)"
   ]
  },
  {
   "cell_type": "code",
   "execution_count": 7,
   "metadata": {},
   "outputs": [
    {
     "data": {
      "text/plain": [
       "11"
      ]
     },
     "execution_count": 7,
     "metadata": {},
     "output_type": "execute_result"
    }
   ],
   "source": [
    "newTotal // this time it saved!"
   ]
  },
  {
   "cell_type": "markdown",
   "metadata": {},
   "source": [
    "### Function Scope"
   ]
  },
  {
   "cell_type": "code",
   "execution_count": 22,
   "metadata": {},
   "outputs": [
    {
     "name": "stdout",
     "output_type": "stream",
     "text": [
      "chicken\n"
     ]
    }
   ],
   "source": [
    "let bird = \"duck\"\n",
    "function birdWatch() {\n",
    "    bird = \"chicken\" // This updates the variable bird\n",
    "}\n",
    "birdWatch() // function has been run so variable is updated\n",
    "console.log(bird) // new variable"
   ]
  },
  {
   "cell_type": "code",
   "execution_count": 1,
   "metadata": {},
   "outputs": [
    {
     "name": "stdout",
     "output_type": "stream",
     "text": [
      "duck\n"
     ]
    }
   ],
   "source": [
    "let bird = \"duck\"\n",
    "function birdWatch() {\n",
    "    let bird = \"chicken\" // because we used \"let\" this is a new variable that only exists inside the function\n",
    "}\n",
    "birdWatch() // function has been run but ne variable was not returned\n",
    "console.log(bird) // old variable"
   ]
  },
  {
   "cell_type": "markdown",
   "metadata": {},
   "source": [
    "### Block Scope"
   ]
  },
  {
   "cell_type": "code",
   "execution_count": 1,
   "metadata": {},
   "outputs": [
    {
     "name": "stdout",
     "output_type": "stream",
     "text": [
      "null\n"
     ]
    }
   ],
   "source": [
    "// same with loops and conditionals\n",
    "let msg = \"null\"\n",
    "let num = 5\n",
    "if (num > 0) {\n",
    "    let msg = \"Hello\"\n",
    "}\n",
    "console.log(msg)"
   ]
  },
  {
   "cell_type": "code",
   "execution_count": 1,
   "metadata": {},
   "outputs": [
    {
     "name": "stdout",
     "output_type": "stream",
     "text": [
      "Hello\n"
     ]
    }
   ],
   "source": [
    "// this is not the case with \"var\"\n",
    "var msg = \"null\"\n",
    "var num = 5\n",
    "if (num > 0) {\n",
    "    var msg = \"Hello\"\n",
    "}\n",
    "console.log(msg)\n",
    "// this is the problem with \"var\""
   ]
  },
  {
   "cell_type": "markdown",
   "metadata": {},
   "source": [
    "### Lexical Scope (also called Static Scope)"
   ]
  },
  {
   "cell_type": "code",
   "execution_count": null,
   "metadata": {},
   "outputs": [],
   "source": [
    "// applied to arrow functions? Use bind to specify"
   ]
  },
  {
   "cell_type": "code",
   "execution_count": 2,
   "metadata": {},
   "outputs": [
    {
     "name": "stdout",
     "output_type": "stream",
     "text": [
      "Please help us Batman!\n",
      "Please help us Wonderwoman!\n",
      "Please help us Black Panther!\n"
     ]
    }
   ],
   "source": [
    "// inner functions have access to variables stated in parent/grandparent/etc. functions\n",
    "// this does not work the other way around\n",
    "function bankRobbery() {\n",
    "    let heroes = [\"Batman\", \"Wonderwoman\", \"Black Panther\"]\n",
    "    function help() {\n",
    "        for (let hero of heroes) {\n",
    "            console.log(`Please help us ${hero}!`)\n",
    "        }\n",
    "    } help();\n",
    "} bankRobbery()"
   ]
  },
  {
   "cell_type": "markdown",
   "metadata": {},
   "source": [
    "## Function Expressions"
   ]
  },
  {
   "cell_type": "code",
   "execution_count": 1,
   "metadata": {},
   "outputs": [
    {
     "data": {
      "text/plain": [
       "7"
      ]
     },
     "execution_count": 1,
     "metadata": {},
     "output_type": "execute_result"
    }
   ],
   "source": [
    "let add = function (x,y) { // function has no name and is stored in variable\n",
    "    return x + y;\n",
    "}\n",
    "add(3,4)"
   ]
  },
  {
   "cell_type": "markdown",
   "metadata": {},
   "source": [
    "## Higher Order Functions"
   ]
  },
  {
   "cell_type": "code",
   "execution_count": 1,
   "metadata": {},
   "outputs": [
    {
     "name": "stdout",
     "output_type": "stream",
     "text": [
      "3\n",
      "6\n"
     ]
    }
   ],
   "source": [
    "// FUNCTIONS IN FUNCTIONS\n",
    "function callTwice(func) {\n",
    "    func();\n",
    "    func();\n",
    "}\n",
    "\n",
    "function rollDie() {\n",
    "    let roll = Math.floor(Math.random() * 6) + 1\n",
    "    console.log(roll)\n",
    "}\n",
    "\n",
    "callTwice(rollDie) // no brackets after rollDie of it will give 2 x the same result"
   ]
  },
  {
   "cell_type": "code",
   "execution_count": 5,
   "metadata": {},
   "outputs": [
    {
     "name": "stdout",
     "output_type": "stream",
     "text": [
      "2\n",
      "6\n",
      "2\n",
      "2\n",
      "4\n",
      "5\n",
      "3\n",
      "1\n",
      "2\n",
      "6\n"
     ]
    }
   ],
   "source": [
    "function callTenTimes(f) {\n",
    "    for (let i = 0; i < 10; i++) {\n",
    "        f();\n",
    "    }\n",
    "}\n",
    "\n",
    "callTenTimes(rollDie)"
   ]
  },
  {
   "cell_type": "code",
   "execution_count": 1,
   "metadata": {},
   "outputs": [
    {
     "data": {
      "text/plain": [
       "[Function]"
      ]
     },
     "execution_count": 1,
     "metadata": {},
     "output_type": "execute_result"
    }
   ],
   "source": [
    "function makeMysteryFunc() {\n",
    "    let rand = Math.random();\n",
    "    if (rand > 0.5) {\n",
    "        return function() { // function has no name, because returned immeadiately and is inside another function?\n",
    "        console.log(\"YAYYYYYY\")\n",
    "        console.log(\"You win!\")\n",
    "        }\n",
    "    } else {\n",
    "        return () => { // this is the same as above (arrow function) \"() =>\" is shorthand for \"function()\"\n",
    "            // the only difference is arrow functions are staticlally scoped??\n",
    "            console.log(\"BOOOO\")\n",
    "            console.log(\"You lose!\")\n",
    "        }\n",
    "    }\n",
    "}\n",
    "makeMysteryFunc() // shows function but doesnt run"
   ]
  },
  {
   "cell_type": "code",
   "execution_count": 2,
   "metadata": {},
   "outputs": [
    {
     "name": "stdout",
     "output_type": "stream",
     "text": [
      "BOOOO\n",
      "You lose!\n"
     ]
    }
   ],
   "source": [
    "let mystery = makeMysteryFunc() // need to assign to a variable to make run\n",
    "mystery() // and execute with ()"
   ]
  },
  {
   "cell_type": "markdown",
   "metadata": {},
   "source": [
    "### Returning Functions from Functions"
   ]
  },
  {
   "cell_type": "code",
   "execution_count": 1,
   "metadata": {},
   "outputs": [],
   "source": [
    "function makeBetweenFunc(min,max) { // this is a factory function, it makes other functions\n",
    "    return function (num) {\n",
    "        return num >= min && num <= max;\n",
    "    }\n",
    "}"
   ]
  },
  {
   "cell_type": "code",
   "execution_count": 4,
   "metadata": {},
   "outputs": [
    {
     "data": {
      "text/plain": [
       "true"
      ]
     },
     "execution_count": 4,
     "metadata": {},
     "output_type": "execute_result"
    }
   ],
   "source": [
    "let isChild = makeBetweenFunc(0,17) // I can use that function to make these functions (can do in the console)\n",
    "isChild(15)"
   ]
  },
  {
   "cell_type": "code",
   "execution_count": 5,
   "metadata": {},
   "outputs": [
    {
     "data": {
      "text/plain": [
       "false"
      ]
     },
     "execution_count": 5,
     "metadata": {},
     "output_type": "execute_result"
    }
   ],
   "source": [
    "let isAdult = makeBetweenFunc(18,64)\n",
    "isAdult(15)"
   ]
  },
  {
   "cell_type": "code",
   "execution_count": 2,
   "metadata": {},
   "outputs": [
    {
     "data": {
      "text/plain": [
       "true"
      ]
     },
     "execution_count": 2,
     "metadata": {},
     "output_type": "execute_result"
    }
   ],
   "source": [
    "let isSenior = makeBetweenFunc(65,120)\n",
    "isSenior(72)"
   ]
  },
  {
   "cell_type": "code",
   "execution_count": 4,
   "metadata": {},
   "outputs": [],
   "source": [
    "// can use this to make our own methods\n",
    "// because a method is just a function saved like a property onto an object\n",
    "let issysMaths = {\n",
    "    age:26,\n",
    "    square: function(num) {return num*num},\n",
    "    cube: function(num) {return num **3}\n",
    "}"
   ]
  },
  {
   "cell_type": "code",
   "execution_count": null,
   "metadata": {},
   "outputs": [],
   "source": [
    "// can also be written shorthand as...\n",
    "let issysMaths = {\n",
    "    age:26,\n",
    "    square(num) {return num*num}, // still need \",\" at end though\n",
    "    cube(num) {return num **3}\n",
    "}"
   ]
  },
  {
   "cell_type": "code",
   "execution_count": 5,
   "metadata": {},
   "outputs": [
    {
     "data": {
      "text/plain": [
       "26"
      ]
     },
     "execution_count": 5,
     "metadata": {},
     "output_type": "execute_result"
    }
   ],
   "source": [
    "issysMaths.age // these now use . like a normal methos"
   ]
  },
  {
   "cell_type": "code",
   "execution_count": 6,
   "metadata": {},
   "outputs": [
    {
     "data": {
      "text/plain": [
       "[Function: square]"
      ]
     },
     "execution_count": 6,
     "metadata": {},
     "output_type": "execute_result"
    }
   ],
   "source": [
    "issysMaths.square"
   ]
  },
  {
   "cell_type": "code",
   "execution_count": 7,
   "metadata": {},
   "outputs": [
    {
     "data": {
      "text/plain": [
       "9"
      ]
     },
     "execution_count": 7,
     "metadata": {},
     "output_type": "execute_result"
    }
   ],
   "source": [
    "issysMaths.square(3)"
   ]
  },
  {
   "cell_type": "markdown",
   "metadata": {},
   "source": [
    "### This Keyword"
   ]
  },
  {
   "cell_type": "code",
   "execution_count": 8,
   "metadata": {},
   "outputs": [
    {
     "name": "stdout",
     "output_type": "stream",
     "text": [
      "Tony says MEOOWWW\n"
     ]
    }
   ],
   "source": [
    "let cat = {\n",
    "    name: \"Tony\",\n",
    "    colour: \"black\",\n",
    "    breed: \"Domestic Short Hair\",\n",
    "    meow() {\n",
    "        console.log(`${this.name} says MEOOWWW`) // refers to object the method is inside\n",
    "    }\n",
    "}\n",
    "cat.meow()"
   ]
  },
  {
   "cell_type": "code",
   "execution_count": 9,
   "metadata": {},
   "outputs": [
    {
     "name": "stdout",
     "output_type": "stream",
     "text": [
      "undefined says MEOOWWW\n"
     ]
    }
   ],
   "source": [
    "let catNoise = cat.meow; // doesnt always work though...\n",
    "catNoise() \n",
    "// \"this\" refers to whatever was \"invoked\" \n",
    "// ie. what was refered to when calling function\n",
    "// ie. catNoise not cat"
   ]
  },
  {
   "cell_type": "markdown",
   "metadata": {},
   "source": [
    "## Error Handling (Try, Catch and Finally)"
   ]
  },
  {
   "cell_type": "code",
   "execution_count": 6,
   "metadata": {},
   "outputs": [
    {
     "name": "stderr",
     "output_type": "stream",
     "text": [
      "Error!\n"
     ]
    },
    {
     "name": "stdout",
     "output_type": "stream",
     "text": [
      "After\n"
     ]
    }
   ],
   "source": [
    "try {\n",
    "    hello.toUpperCase() // this will error as there is no hello\n",
    "} catch {\n",
    "    console.error(\"Error!\") // so this will happen instead\n",
    "} finally {\n",
    "    console.log(\"After\") // this happens either way\n",
    "}"
   ]
  },
  {
   "cell_type": "code",
   "execution_count": 11,
   "metadata": {},
   "outputs": [
    {
     "name": "stderr",
     "output_type": "stream",
     "text": [
      "TypeError: msg.toUpperCase is not a function\n",
      "    at yell (evalmachine.<anonymous>:3:25)\n",
      "    at evalmachine.<anonymous>:9:1\n",
      "    at Script.runInThisContext (vm.js:96:20)\n",
      "    at Object.runInThisContext (vm.js:303:38)\n",
      "    at run ([eval]:1054:15)\n",
      "    at onRunRequest ([eval]:888:18)\n",
      "    at onMessage ([eval]:848:13)\n",
      "    at process.emit (events.js:182:13)\n",
      "    at emit (internal/child_process.js:812:12)\n",
      "    at process._tickCallback (internal/process/next_tick.js:63:19)\n"
     ]
    },
    {
     "name": "stdout",
     "output_type": "stream",
     "text": [
      "Message must be a string\n"
     ]
    }
   ],
   "source": [
    "function yell(msg) {\n",
    "    try {\n",
    "        console.log(msg.toUpperCase().repeat(3))\n",
    "    } catch (e) {\n",
    "        console.error(e) // automattically gives \"particular exception/error\". See below.\n",
    "        console.log(\"Message must be a string\") // doesn't have to be console.error(), can be anything\n",
    "    }\n",
    "}\n",
    "yell(32452345)"
   ]
  },
  {
   "cell_type": "code",
   "execution_count": 21,
   "metadata": {},
   "outputs": [
    {
     "name": "stdout",
     "output_type": "stream",
     "text": [
      "4321\n"
     ]
    }
   ],
   "source": [
    "function reverseString(s) {\n",
    "    try {\n",
    "        s = s.split(\"\").reverse().join(\"\")\n",
    "    }\n",
    "    catch(err) {\n",
    "        console.log(err.message) // could use a home-made error message using something like this \n",
    "    }\n",
    "    finally {\n",
    "        console.log(s)\n",
    "    }\n",
    "}\n",
    "reverseString(\"1234\")"
   ]
  },
  {
   "cell_type": "markdown",
   "metadata": {},
   "source": [
    "## Array Methods and Call Backs"
   ]
  },
  {
   "cell_type": "markdown",
   "metadata": {},
   "source": [
    "### For Each Loop"
   ]
  },
  {
   "cell_type": "code",
   "execution_count": 3,
   "metadata": {},
   "outputs": [
    {
     "name": "stdout",
     "output_type": "stream",
     "text": [
      "1\n",
      "2\n",
      "3\n",
      "4\n",
      "5\n"
     ]
    }
   ],
   "source": [
    "//  acts very similar to for of loop, but is written differently\n",
    "let nums = [1,2,3,4,5]\n",
    "function print(element) { // this is a call back, it is a function passed as an argument\n",
    "    console.log(element)\n",
    "}\n",
    "nums.forEach(print)"
   ]
  },
  {
   "cell_type": "code",
   "execution_count": 5,
   "metadata": {},
   "outputs": [
    {
     "name": "stdout",
     "output_type": "stream",
     "text": [
      "1\n",
      "2\n",
      "3\n",
      "4\n",
      "5\n"
     ]
    }
   ],
   "source": [
    "// can be written as...\n",
    "nums.forEach(function(el){ // function has no name and only exists for this moment\n",
    "        console.log(el)\n",
    "    })"
   ]
  },
  {
   "cell_type": "code",
   "execution_count": 2,
   "metadata": {},
   "outputs": [
    {
     "name": "stdout",
     "output_type": "stream",
     "text": [
      "Alien - 90/100\n",
      "Love Actually - 95/100\n",
      "Notting Hill - 85/100\n"
     ]
    }
   ],
   "source": [
    "let movies = [\n",
    "    {\n",
    "    title: \"Alien\",\n",
    "    score: 90\n",
    "    },\n",
    "    {\n",
    "    title: \"Love Actually\",\n",
    "    score: 95\n",
    "    },\n",
    "    {\n",
    "    title: \"Notting Hill\",\n",
    "    score: 85\n",
    "    }\n",
    "]\n",
    "\n",
    "movies.forEach(function(movie) {\n",
    "    console.log(`${movie.title} - ${movie.score}/100`)\n",
    "    })"
   ]
  },
  {
   "cell_type": "code",
   "execution_count": 1,
   "metadata": {},
   "outputs": [
    {
     "name": "stdout",
     "output_type": "stream",
     "text": [
      "0 'Apple' [ 'Apple', 'Orange' ]\n",
      "1 'Orange' [ 'Apple', 'Orange' ]\n"
     ]
    }
   ],
   "source": [
    "let fruitList = ['Apple', 'Orange'];\n",
    "fruitList.forEach(function(item, index, array) { // can add 2nd and 3rd arguements to find index and array\n",
    "    console.log(index, item, array);\n",
    "});"
   ]
  },
  {
   "cell_type": "markdown",
   "metadata": {},
   "source": [
    "### Map"
   ]
  },
  {
   "cell_type": "code",
   "execution_count": 1,
   "metadata": {},
   "outputs": [
    {
     "name": "stdout",
     "output_type": "stream",
     "text": [
      "[ 2, 4, 6, 8, 10 ]\n"
     ]
    }
   ],
   "source": [
    "// like for each but returns NEW array which can be saved as variable, used to change/mutate items in an array\n",
    "let nums = [1,2,3,4,5]\n",
    "let doubles = nums.map(function(n){\n",
    "    return n * 2\n",
    "})\n",
    "console.log(doubles)"
   ]
  },
  {
   "cell_type": "code",
   "execution_count": 2,
   "metadata": {},
   "outputs": [
    {
     "name": "stdout",
     "output_type": "stream",
     "text": [
      "[ 1, 2, 3, 4, 5 ]\n"
     ]
    }
   ],
   "source": [
    "console.log(nums) // this remains the same"
   ]
  },
  {
   "cell_type": "code",
   "execution_count": 2,
   "metadata": {},
   "outputs": [
    {
     "name": "stdout",
     "output_type": "stream",
     "text": [
      "[ 'Alien', 'Love Actually', 'Notting Hill' ]\n"
     ]
    }
   ],
   "source": [
    "let titles = movies.map(function(movie) {\n",
    "    return movie.title\n",
    "})\n",
    "console.log(titles)"
   ]
  },
  {
   "cell_type": "markdown",
   "metadata": {},
   "source": [
    "### Arrow function"
   ]
  },
  {
   "cell_type": "code",
   "execution_count": 3,
   "metadata": {},
   "outputs": [
    {
     "data": {
      "text/plain": [
       "5"
      ]
     },
     "execution_count": 3,
     "metadata": {},
     "output_type": "execute_result"
    }
   ],
   "source": [
    "// \"function()\" can be written as \"() =>\"\n",
    "let add = function(x,y) {\n",
    "    return x + y;\n",
    "}\n",
    "add(2,3)"
   ]
  },
  {
   "cell_type": "code",
   "execution_count": 1,
   "metadata": {},
   "outputs": [
    {
     "data": {
      "text/plain": [
       "5"
      ]
     },
     "execution_count": 1,
     "metadata": {},
     "output_type": "execute_result"
    }
   ],
   "source": [
    "let add = (x,y) => { // like this \n",
    "    return x + y;\n",
    "}\n",
    "add(2,3)"
   ]
  },
  {
   "cell_type": "code",
   "execution_count": 1,
   "metadata": {},
   "outputs": [
    {
     "data": {
      "text/plain": [
       "4"
      ]
     },
     "execution_count": 1,
     "metadata": {},
     "output_type": "execute_result"
    }
   ],
   "source": [
    "let square = x => { // if only one (not zero) parameter, don't need ()\n",
    "    return x * x;\n",
    "} \n",
    "square(2)"
   ]
  },
  {
   "cell_type": "markdown",
   "metadata": {},
   "source": [
    "#### This Keywork and Arrow Functions"
   ]
  },
  {
   "cell_type": "code",
   "execution_count": 3,
   "metadata": {},
   "outputs": [
    {
     "name": "stdout",
     "output_type": "stream",
     "text": [
      "Dan Geldard\n"
     ]
    }
   ],
   "source": [
    "let person = {\n",
    "    firstName: \"Dan\",\n",
    "    lastName: \"Geldard\",\n",
    "    fullName: function() {\n",
    "        return `${this.firstName} ${this.lastName}`\n",
    "    }\n",
    "}\n",
    "console.log(person.fullName())"
   ]
  },
  {
   "cell_type": "code",
   "execution_count": 1,
   "metadata": {},
   "outputs": [
    {
     "name": "stderr",
     "output_type": "stream",
     "text": [
      "undefined undefined\n"
     ]
    }
   ],
   "source": [
    "let person = {\n",
    "    firstName: \"Dan\",\n",
    "    lastName: \"Geldard\",\n",
    "    fullName: () => { // arrow function works differently, it does not change the context of \"this\"\n",
    "//         in this case its bad but sometimes we want this if we are doing other functions eg. setTimeout etc.\n",
    "        return `${this.firstName} ${this.lastName}`\n",
    "    }\n",
    "}\n",
    "console.error(person.fullName())"
   ]
  },
  {
   "cell_type": "markdown",
   "metadata": {},
   "source": [
    "#### Implicit Returns"
   ]
  },
  {
   "cell_type": "code",
   "execution_count": 1,
   "metadata": {},
   "outputs": [
    {
     "data": {
      "text/plain": [
       "4"
      ]
     },
     "execution_count": 1,
     "metadata": {},
     "output_type": "execute_result"
    }
   ],
   "source": [
    "// Only works with arrow functions, means we dont need \"return\", and we use () instead of {}\n",
    "// can only use if there is only one value to be returned from within ()\n",
    "let square = x => (x * x); // nice and compact\n",
    "square(2)"
   ]
  },
  {
   "cell_type": "code",
   "execution_count": 1,
   "metadata": {},
   "outputs": [
    {
     "data": {
      "text/plain": [
       "4"
      ]
     },
     "execution_count": 1,
     "metadata": {},
     "output_type": "execute_result"
    }
   ],
   "source": [
    "let square = x => x * x; // we dont even need brackets so long as it fits on one line\n",
    "square(2)"
   ]
  },
  {
   "cell_type": "code",
   "execution_count": 2,
   "metadata": {},
   "outputs": [
    {
     "name": "stdout",
     "output_type": "stream",
     "text": [
      "[ 'Alien - 90/100',\n",
      "  'Love Actually - 95/100',\n",
      "  'Notting Hill - 85/100' ]\n"
     ]
    }
   ],
   "source": [
    "let newMovies = movies.map(movie => `${movie.title} - ${movie.score}/100`)\n",
    "console.log(newMovies)"
   ]
  },
  {
   "cell_type": "markdown",
   "metadata": {},
   "source": [
    "## setTimeout and setInterval"
   ]
  },
  {
   "cell_type": "code",
   "execution_count": 6,
   "metadata": {},
   "outputs": [
    {
     "name": "stdout",
     "output_type": "stream",
     "text": [
      "Hello?\n",
      "This still runs immeadiately though\n",
      "Is anyone there?\n"
     ]
    }
   ],
   "source": [
    "console.log(\"Hello?\")\n",
    "setTimeout(() => { // this sets a time delay\n",
    "    console.log(\"Is anyone there?\") // before running this\n",
    "}, 3000) // of 3000 miliseconds ie. 3 seconds\n",
    "console.log(\"This still runs immeadiately\")"
   ]
  },
  {
   "cell_type": "code",
   "execution_count": 1,
   "metadata": {},
   "outputs": [
    {
     "name": "stdout",
     "output_type": "stream",
     "text": [
      "Random numbers every 2 seconds, for 8 seconds!\n",
      "0.8701054186852866\n",
      "0.8931904247597904\n",
      "0.44998498528469155\n"
     ]
    }
   ],
   "source": [
    "let id = setInterval(() => { // this makes something happen at regular intervals\n",
    "    console.log(Math.random())\n",
    "}, 2000); // time between intervals\n",
    "setTimeout(() => {\n",
    "    clearInterval(id) // this stops the interval, can be put directly into the console\n",
    "}, 8000)\n",
    "console.log(\"Random numbers every 2 seconds, for 8 seconds!\")"
   ]
  },
  {
   "cell_type": "markdown",
   "metadata": {},
   "source": [
    "## The Filter Method"
   ]
  },
  {
   "cell_type": "code",
   "execution_count": 1,
   "metadata": {},
   "outputs": [
    {
     "name": "stdout",
     "output_type": "stream",
     "text": [
      "[ 1, 2, 3, 4, 5 ]\n",
      "[ 1, 2, 3, 4, 5, 6, 7, 8, 9, 10 ]\n"
     ]
    }
   ],
   "source": [
    "let nums = [1,2,3,4,5,6,7,8,9,10]\n",
    "console.log(nums.filter(n => n < 6)) // gives back new array only showing numbers where () is true\n",
    "console.log(nums) // origional array still unchanged"
   ]
  },
  {
   "cell_type": "code",
   "execution_count": 3,
   "metadata": {},
   "outputs": [
    {
     "name": "stdout",
     "output_type": "stream",
     "text": [
      "[ 'Alien', 'Love Actually' ]\n"
     ]
    }
   ],
   "source": [
    "// can combine filter and map methods ...\n",
    "let goodMovies = movies // if long can do on multiple lines like this or can do on one\n",
    "    .filter(m => m.score >= 90)\n",
    "    .map(m => m.title)\n",
    "console.log(goodMovies)"
   ]
  },
  {
   "cell_type": "markdown",
   "metadata": {},
   "source": [
    "## Every and Some"
   ]
  },
  {
   "cell_type": "code",
   "execution_count": 4,
   "metadata": {},
   "outputs": [
    {
     "name": "stdout",
     "output_type": "stream",
     "text": [
      "false\n",
      "true\n"
     ]
    }
   ],
   "source": [
    "let scores = [65, 96, 73, 90, 95, 68]\n",
    "console.log(scores.every(score => score >=70)) // checks if true for every element \n",
    "console.log(scores.some(score => score >= 90)) // checks if true for any elements"
   ]
  },
  {
   "cell_type": "markdown",
   "metadata": {},
   "source": [
    "## Reduce method"
   ]
  },
  {
   "cell_type": "code",
   "execution_count": 1,
   "metadata": {},
   "outputs": [
    {
     "name": "stdout",
     "output_type": "stream",
     "text": [
      "115\n"
     ]
    }
   ],
   "source": [
    "// Format:\n",
    "// array.reduce((accumulator, currentValue) => {\n",
    "//     return accumulator + currentValue, initialValue\n",
    "// })\n",
    "\n",
    "let nums = [1,2,3,4,5]\n",
    "let total = nums.reduce((total, n) => { // good because no external dependancies eg. total = 0 outside loop\n",
    "    return total + n\n",
    "}, 100)\n",
    "console.log(total)"
   ]
  },
  {
   "cell_type": "code",
   "execution_count": 1,
   "metadata": {},
   "outputs": [
    {
     "name": "stdout",
     "output_type": "stream",
     "text": [
      "115\n"
     ]
    }
   ],
   "source": [
    "let nums = [1,2,3,4,5]\n",
    "let total = nums.reduce((total, n) => total + n, 100) // same thing\n",
    "console.log(total)"
   ]
  },
  {
   "cell_type": "code",
   "execution_count": 1,
   "metadata": {},
   "outputs": [
    {
     "name": "stdout",
     "output_type": "stream",
     "text": [
      "1.5\n"
     ]
    }
   ],
   "source": [
    "let prices = [3.5, 3.99, 19.99, 1.5, 6.99]\n",
    "let lowest = prices.reduce((min, price) => {\n",
    "    if (price < min) {\n",
    "        return price\n",
    "    } else {\n",
    "        return min // can use return because inside call back function\n",
    "    }\n",
    "})\n",
    "console.log(lowest)"
   ]
  },
  {
   "cell_type": "code",
   "execution_count": 2,
   "metadata": {},
   "outputs": [
    {
     "name": "stdout",
     "output_type": "stream",
     "text": [
      "[ 3.5, 3.99, 19.99, 1.5, 6.99 ]\n"
     ]
    }
   ],
   "source": [
    "console.log(prices) // remains unchanged"
   ]
  },
  {
   "cell_type": "markdown",
   "metadata": {},
   "source": [
    "## Default Parameters"
   ]
  },
  {
   "cell_type": "code",
   "execution_count": 2,
   "metadata": {},
   "outputs": [
    {
     "data": {
      "text/plain": [
       "3"
      ]
     },
     "execution_count": 2,
     "metadata": {},
     "output_type": "execute_result"
    }
   ],
   "source": [
    "function rollDie(numSides = 6) { // the \"= 6\" gives a default of 6 if no parameters are entered\n",
    "    return Math.floor(Math.random() * numSides) + 1\n",
    "}\n",
    "rollDie()"
   ]
  },
  {
   "cell_type": "markdown",
   "metadata": {},
   "source": [
    "## Spread"
   ]
  },
  {
   "cell_type": "code",
   "execution_count": 3,
   "metadata": {},
   "outputs": [
    {
     "data": {
      "text/plain": [
       "741"
      ]
     },
     "execution_count": 3,
     "metadata": {},
     "output_type": "execute_result"
    }
   ],
   "source": [
    "Math.max(45,68,2,741,75,4,4) // can put in multiple parameters and find max like this "
   ]
  },
  {
   "cell_type": "code",
   "execution_count": 4,
   "metadata": {},
   "outputs": [
    {
     "data": {
      "text/plain": [
       "NaN"
      ]
     },
     "execution_count": 4,
     "metadata": {},
     "output_type": "execute_result"
    }
   ],
   "source": [
    "let nums = [45,68,2,741,75,4,4]\n",
    "Math.max(nums) // this wont work because its an array rather than arguments"
   ]
  },
  {
   "cell_type": "code",
   "execution_count": 5,
   "metadata": {},
   "outputs": [
    {
     "data": {
      "text/plain": [
       "741"
      ]
     },
     "execution_count": 5,
     "metadata": {},
     "output_type": "execute_result"
    }
   ],
   "source": [
    "Math.max(...nums) // this works because we are SPREADING the array into lots of seperate arguments"
   ]
  },
  {
   "cell_type": "code",
   "execution_count": 6,
   "metadata": {},
   "outputs": [
    {
     "name": "stdout",
     "output_type": "stream",
     "text": [
      "45 68 2 741 75 4 4\n"
     ]
    }
   ],
   "source": [
    "console.log(...nums) // works on lots of things"
   ]
  },
  {
   "cell_type": "code",
   "execution_count": 7,
   "metadata": {},
   "outputs": [
    {
     "name": "stdout",
     "output_type": "stream",
     "text": [
      "h e l l o\n"
     ]
    }
   ],
   "source": [
    "console.log(...\"hello\") // even works on strings, makes it into console.log(\"h\", \"e\", \"l\", \"l\", \"o\")"
   ]
  },
  {
   "cell_type": "code",
   "execution_count": 8,
   "metadata": {},
   "outputs": [
    {
     "name": "stdout",
     "output_type": "stream",
     "text": [
      "[ 'Buster', 'Rolo', 'Pickle', 'Tony', 'Marmelade', 'Rory', 42, true ]\n"
     ]
    }
   ],
   "source": [
    "let dogs = [\"Buster\", \"Rolo\", \"Pickle\"]\n",
    "let cats = [\"Tony\", \"Marmelade\"]\n",
    "let allPets = [...dogs, ...cats, \"Rory\", 42, true] // copies contents to new array\n",
    "console.log(allPets)"
   ]
  },
  {
   "cell_type": "code",
   "execution_count": 9,
   "metadata": {},
   "outputs": [
    {
     "name": "stdout",
     "output_type": "stream",
     "text": [
      "[ 'h', 'e', 'l', 'l', 'o' ]\n"
     ]
    }
   ],
   "source": [
    "console.log([...\"hello\"])"
   ]
  },
  {
   "cell_type": "code",
   "execution_count": 1,
   "metadata": {},
   "outputs": [
    {
     "name": "stdout",
     "output_type": "stream",
     "text": [
      "{ legs: 4, family: 'canine', isLoveable: true, tail: 1 }\n"
     ]
    }
   ],
   "source": [
    "let dog = {\n",
    "    legs: 4, \n",
    "    family: \"canine\",\n",
    "    isLoveable: true\n",
    "}\n",
    "let cat = {\n",
    "    legs: 4,\n",
    "    family: \"feline\"\n",
    "}\n",
    "let catDog = {...cat, ...dog, tail: 1}\n",
    "console.log(catDog)\n",
    "// conflict on \"family\", because dog was written after, it overrides cat's family"
   ]
  },
  {
   "cell_type": "code",
   "execution_count": 5,
   "metadata": {},
   "outputs": [
    {
     "name": "stdout",
     "output_type": "stream",
     "text": [
      "{ '0': 1, '1': 2, '2': 3, '3': 4 }\n",
      "{ '0': 'h', '1': 'e', '2': 'l', '3': 'l', '4': 'o' }\n"
     ]
    }
   ],
   "source": [
    "console.log({...[1,2,3,4]}) // index used as key\n",
    "console.log({...\"hello\"})"
   ]
  },
  {
   "cell_type": "markdown",
   "metadata": {},
   "source": [
    "## Rest"
   ]
  },
  {
   "cell_type": "code",
   "execution_count": 7,
   "metadata": {},
   "outputs": [
    {
     "name": "stdout",
     "output_type": "stream",
     "text": [
      "[Arguments] {}\n",
      "[Arguments] { '0': 23, '1': 45, '2': 45 }\n"
     ]
    }
   ],
   "source": [
    " function test() {\n",
    "     console.log(arguments) // \"arguments\" is a special feature that will tell us the arguments we put in (doesn't work in arrow functions)\n",
    " }\n",
    "test()\n",
    "test(23,45,45)"
   ]
  },
  {
   "cell_type": "code",
   "execution_count": 10,
   "metadata": {},
   "outputs": [
    {
     "data": {
      "text/plain": [
       "15"
      ]
     },
     "execution_count": 10,
     "metadata": {},
     "output_type": "execute_result"
    }
   ],
   "source": [
    "function sum(...nums) { // this ... is rest, it collects the rest of the arguments no matter how many there are, and puts then into an array\n",
    "    return nums.reduce((total, element) => total + element)\n",
    "}\n",
    "sum(1,2,3,4,5)"
   ]
  },
  {
   "cell_type": "code",
   "execution_count": 11,
   "metadata": {},
   "outputs": [
    {
     "name": "stdout",
     "output_type": "stream",
     "text": [
      "Gold medal goes to Billy\n",
      "Silver medal goes to Paul\n",
      "And special thanks to David,Michael,Zeus\n"
     ]
    }
   ],
   "source": [
    "function raceResults(gold, silver, ...participants) {\n",
    "    console.log(`Gold medal goes to ${gold}`)\n",
    "    console.log(`Silver medal goes to ${silver}`)\n",
    "    console.log(`And special thanks to ${participants}`)\n",
    "}\n",
    "raceResults(\"Billy\", \"Paul\", \"David\", \"Michael\", \"Zeus\")"
   ]
  },
  {
   "cell_type": "markdown",
   "metadata": {},
   "source": [
    "## Destructuring"
   ]
  },
  {
   "cell_type": "code",
   "execution_count": 12,
   "metadata": {},
   "outputs": [
    {
     "name": "stdout",
     "output_type": "stream",
     "text": [
      "321\n",
      "257\n",
      "[ 168, 94, 87, 21 ]\n",
      "[ 321, 257, 168, 94, 87, 21 ]\n"
     ]
    }
   ],
   "source": [
    "let scores = [321, 257, 168, 94, 87, 21] // array\n",
    "// to get high scores I could do this...\n",
    "//    let winner = scores[0]\n",
    "//    let runnerUp = scores[1]\n",
    "// Or I could do this which is faster...\n",
    "let [winner, runnerUp, ...everyoneElse] = scores;\n",
    "console.log(winner) // value\n",
    "console.log(runnerUp) // value\n",
    "console.log(everyoneElse) // array\n",
    "console.log(scores) // this remains unaltered"
   ]
  },
  {
   "cell_type": "code",
   "execution_count": 1,
   "metadata": {},
   "outputs": [
    {
     "name": "stdout",
     "output_type": "stream",
     "text": [
      "true\n"
     ]
    }
   ],
   "source": [
    "let dog = {\n",
    "    legs: 4, \n",
    "    family: \"canine\",\n",
    "    isLoveable: true\n",
    "}\n",
    "// to get is loveable variable, could do console.log(dog.isLoveable). fine to do once but slow for many\n",
    "\n",
    "let { isLoveable: goodPet, family, legs } = dog; // made 3 new variables that can be used outside object\n",
    "// renamed isLoveable to goodPet using :\n",
    "console.log(goodPet)"
   ]
  },
  {
   "cell_type": "code",
   "execution_count": 4,
   "metadata": {},
   "outputs": [
    {
     "data": {
      "text/plain": [
       "'canines have 4 legs and it is true they are loveable'"
      ]
     },
     "execution_count": 4,
     "metadata": {},
     "output_type": "execute_result"
    }
   ],
   "source": [
    "function info(animal){\n",
    "    return `${animal.family}s have ${animal.legs} legs and it is ${animal.isLoveable} they are loveable`\n",
    "}\n",
    "info(dog)"
   ]
  },
  {
   "cell_type": "code",
   "execution_count": 6,
   "metadata": {},
   "outputs": [
    {
     "data": {
      "text/plain": [
       "'canines have 4 legs and it is true they are loveable'"
      ]
     },
     "execution_count": 6,
     "metadata": {},
     "output_type": "execute_result"
    }
   ],
   "source": [
    "// can destruct like so...\n",
    "function info({family, legs, isLoveable}){\n",
    "    return `${family}s have ${legs} legs and it is ${isLoveable} they are loveable`\n",
    "}\n",
    "info(dog)"
   ]
  },
  {
   "cell_type": "markdown",
   "metadata": {},
   "source": [
    "# Document Object Model (DOM)"
   ]
  },
  {
   "cell_type": "markdown",
   "metadata": {},
   "source": [
    "## Selecting"
   ]
  },
  {
   "cell_type": "code",
   "execution_count": null,
   "metadata": {},
   "outputs": [],
   "source": [
    "let selectedElement = document.getElementById(\"id\") // fetches object with a given ID\n",
    "let selectedElements1 = document.getElementsByTagName(\"tagName\") // fetches all objects with a specific type of tag\n",
    "// makes a \"collection\" of objects (but NOT an array), that CAN be itterated over and changed\n",
    "let selectedElements2 = document.getElementByClass(\"class\") // fetches all objects with a given class"
   ]
  },
  {
   "cell_type": "code",
   "execution_count": null,
   "metadata": {},
   "outputs": [],
   "source": [
    "// this way is considered better\n",
    "let links = document.querySelector(\"a\"); // finds first element with tag of h1\n",
    "document.querySelector(\"a[title=java]\"); // can add attributes in square brackets\n",
    "document.querySelector(\"#red\"); // find first element with ID of red\n",
    "document.querySelector(\".big\"); // finds first element wih class of big"
   ]
  },
  {
   "cell_type": "code",
   "execution_count": null,
   "metadata": {},
   "outputs": [],
   "source": [
    "document.querySelectorAll(\"a\"); // finds all elements with tag of a\n",
    "document.querySelectorAll(\"a[title=java]\"); // can still add attributes in square brackets\n",
    "document.querySelectorAll(\"p a\"); // finds all a with p parents (like css)\n",
    "document.querySelectorAll(\".big\"); // finds all elements wih class of big"
   ]
  },
  {
   "cell_type": "markdown",
   "metadata": {},
   "source": [
    "## Manipulating"
   ]
  },
  {
   "cell_type": "code",
   "execution_count": null,
   "metadata": {},
   "outputs": [],
   "source": [
    "document.querySelector(\"p\").innerText; = \"i can change text like this\" // innerText just shows text showing, not whole content eg. hidden things\n",
    "document.querySelector(\"p\").textContent; // like innerText but shows hidden content\n",
    "\n",
    "let all links = document.querySelectorAll(\"a\");\n",
    "for let link of allLinks {\n",
    "    link.innerText = \"I am a link\"\n",
    "} // this would change them all\n",
    "\n",
    "document.querySelector(\"p\").innerText; = \"<i>This wont work</i>\" // because it isnt text\n",
    "document.querySelector(\"p\").innerHTML; = \"<i>This WILL work</i>\""
   ]
  },
  {
   "cell_type": "markdown",
   "metadata": {},
   "source": [
    "### Attributes"
   ]
  },
  {
   "cell_type": "code",
   "execution_count": null,
   "metadata": {},
   "outputs": [],
   "source": [
    "let image = document.querySelector(\"#bannerImg\")\n",
    "image.href  // I can access attribules like ID, type, href etc. like this and change them with =\n",
    "image.getAttribute(\"href\") // does same thing as above\n",
    "image.setAttribute(\"href\", \"http://www.google.com\") // this would change attribute"
   ]
  },
  {
   "cell_type": "markdown",
   "metadata": {},
   "source": [
    "### Changing Styles"
   ]
  },
  {
   "cell_type": "code",
   "execution_count": null,
   "metadata": {},
   "outputs": [],
   "source": [
    "let h1 = document.querySelector(\"h1\")\n",
    "h1.style // does not show styles in seperate css page, only inline html styles\n",
    "h1.style.color = \"green\" // this will change inline, could use for loop to do all, not a great way to do it though\n",
    "window.getComputedStyles(h1).color // will tell me color"
   ]
  },
  {
   "cell_type": "code",
   "execution_count": null,
   "metadata": {},
   "outputs": [],
   "source": [
    "image.getAttribute(\"class\") \n",
    "image.setAttribute(\"class\", \"purple\" \"border\") // can use this to apply css classes for styling\n",
    "image.classList.add(\"margin\") // this adds to pre-existing classes (better than set attribute)\n",
    "image.classList.remove(\"purple\")\n",
    "image.classList.contains(\"border\") // true or false\n",
    "image.classList.toggle(\"border\") // toggles between true and false"
   ]
  },
  {
   "cell_type": "markdown",
   "metadata": {},
   "source": [
    "### Moving around the DOM"
   ]
  },
  {
   "cell_type": "code",
   "execution_count": null,
   "metadata": {},
   "outputs": [],
   "source": [
    "image.parentElement // wills show me the parent element, can be chained together\n",
    "image.childElementCount // will tell you how many children\n",
    "image.children // will tell you what childern are \n",
    "image.childElement[0] // to navigate to one of the children (zero indexed)\n",
    "image.nextSibling or image.previousSibling // will give us the Node (not what you'd think)\n",
    "image.nextElementSibling // will actually give us the next sibling "
   ]
  },
  {
   "cell_type": "markdown",
   "metadata": {},
   "source": [
    "### Adding and Removing Elements"
   ]
  },
  {
   "cell_type": "code",
   "execution_count": null,
   "metadata": {},
   "outputs": [],
   "source": [
    "let newImg = document.createElement(\"img\") // creates image tag\n",
    "newImg.src = \"www.example.co.uk/image\" // adds source\n",
    "document.body.appendChild(newImg) // where we want it (can be anywhere, not just body)\n",
    "newImg.classlist.add(\"style\") // add classes to style"
   ]
  },
  {
   "cell_type": "code",
   "execution_count": null,
   "metadata": {},
   "outputs": [],
   "source": [
    "let newH3 = document.createElement(\"h3\")\n",
    "newH3.innerText = \"I am new!\"\n",
    "document.body.appendChild(newH3) // append always puts it at the end of whatever is already there"
   ]
  },
  {
   "cell_type": "code",
   "execution_count": null,
   "metadata": {},
   "outputs": [],
   "source": [
    "let p = document.querySelector(\"p\")\n",
    "p.append(\"I am new test yay!\", \"This will be added too\") // this wouldn't work using appendChild\n",
    "p.prepend(\"This goes at thr front instead\")\n",
    "p.insertAdjacentElement(position, element)\n",
    "// positions...\n",
    "// \"beforebegin\" is before the target element\n",
    "// \"afterbegin\" just inside target element, before first child\n",
    "// \"beforeend\" just inside target element, after last child\n",
    "// \"afterend\" after the target element\n",
    "p.after(newH3) // will add element after target element"
   ]
  },
  {
   "cell_type": "code",
   "execution_count": null,
   "metadata": {},
   "outputs": [],
   "source": [
    "body.removeChild(newImg) // must be in the parent to remove child\n",
    "newImg.remove() // removes element currently selected, this better than removeChild "
   ]
  },
  {
   "cell_type": "markdown",
   "metadata": {},
   "source": [
    "## DOM Events"
   ]
  },
  {
   "cell_type": "code",
   "execution_count": null,
   "metadata": {},
   "outputs": [],
   "source": [
    "// this is the worse option but they are used (because can only do one function on click)\n",
    "let btn = document.querySelector(\"#btn1\")\n",
    "btn.onclick = function() { // lots of different events (on...) we can use\n",
    "    console.log(\"You clicked me!\")\n",
    "}"
   ]
  },
  {
   "cell_type": "code",
   "execution_count": null,
   "metadata": {},
   "outputs": [],
   "source": [
    "//  this is the better way\n",
    "let btn = document.querySelector(\"#btn1\")\n",
    "button.addEventListener(\"click\", () => {\n",
    "    console.log(\"You clicked me!\")\n",
    "})"
   ]
  },
  {
   "cell_type": "code",
   "execution_count": 1,
   "metadata": {},
   "outputs": [],
   "source": [
    "let makeRandColor = () => {\n",
    "    let r = Math.floor(Math.random() * 255)\n",
    "    let g = Math.floor(Math.random() * 255)\n",
    "    let b = Math.floor(Math.random() * 255)\n",
    "    return `rgb(${r}, ${g}, ${b})`\n",
    "}"
   ]
  },
  {
   "cell_type": "code",
   "execution_count": null,
   "metadata": {},
   "outputs": [],
   "source": [
    "let buttons = document.querySelectorAll(\"button\");\n",
    "for (let button of buttons) { // have to loop so applied to all buttons\n",
    "    button.addEventListener(\"click\", () => {\n",
    "        button.style.backgroundColour = makeRandColor;\n",
    "        button.style.color = makeRandColor;\n",
    "    })\n",
    "}"
   ]
  },
  {
   "cell_type": "code",
   "execution_count": null,
   "metadata": {},
   "outputs": [],
   "source": [
    "fuction colorize() { // now this function can be applied to anything\n",
    "        this.style.backgroundColour = makeRandColor;\n",
    "        this.style.color = makeRandColor;\n",
    "}\n",
    "\n",
    "let buttons = document.querySelectorAll(\"button\");\n",
    "for (let button of buttons) {\n",
    "    button.addEventListener(\"click\", colorize}) // like so \n",
    "}"
   ]
  },
  {
   "cell_type": "markdown",
   "metadata": {},
   "source": [
    "### Keyboard Events and Event Objects"
   ]
  },
  {
   "cell_type": "code",
   "execution_count": null,
   "metadata": {},
   "outputs": [],
   "source": [
    "let btn = document.querySelector(\"#btn1\")\n",
    "button.addEventListener(\"click\", (event) => {\n",
    "    console.log(event) // will give lots of details including, where on page was clicked etc.\n",
    "}) // can also use \"evt\" or \"e\" insead of \"event\""
   ]
  },
  {
   "cell_type": "code",
   "execution_count": null,
   "metadata": {},
   "outputs": [],
   "source": [
    "let input = document.querySelector(\"input\");\n",
    "\n",
    "input.addEventListener(\"keydown\", function() { // when any key on keyboard is pushed down\n",
    "    console.log(\"KEYDOWN\")\n",
    "})\n",
    "\n",
    "input.addEventListener(\"keyup\", function(e) { // when any key on keyboard is lifted\n",
    "    console.log(e) // this tells us lots of information\n",
    "    console.log(e.key) // tells us which key is used eg \"a\", \" \", \"Shift\"\n",
    "    console.log(e.code) // tells us keyboard location eg. \"KeyA\", \"Space\", \"ShiftLeft\"\n",
    "})"
   ]
  },
  {
   "cell_type": "code",
   "execution_count": null,
   "metadata": {},
   "outputs": [],
   "source": [
    "window.addEventListener(\"keydown\" function(e) { // using window means if key is pushed anywhere, not just in input\n",
    "    switch (e.code) {\n",
    "        case \"ArrowUp\": console.log(\"UP\");\n",
    "            break;\n",
    "        case \"ArrowDown\": console.log(\"DOWN\");\n",
    "            break;\n",
    "        case \"ArrowLeft\": console.log(\"LEFT\");\n",
    "            break;\n",
    "        case \"ArrowRight\": console.log(\"RIGHT\");\n",
    "            break;\n",
    "        default: console.log(\"Ignored\")\n",
    "    }\n",
    "})"
   ]
  },
  {
   "cell_type": "markdown",
   "metadata": {},
   "source": [
    "### Form Events and PreventDefault"
   ]
  },
  {
   "cell_type": "code",
   "execution_count": null,
   "metadata": {},
   "outputs": [],
   "source": [
    "// Forms always have an 'action = \"/example\"' which takes you to another location\n",
    "let form = document.querySelector(\"formA\")\n",
    "let outputContainer = document.querySelector(\"input\").value; // where I want output to go\n",
    "form.addEventListener(\"submit\", function(e) {\n",
    "    let newLi = document.createElement(\"li\"); // make li\n",
    "    newLi.append(input); // putting input into li\n",
    "    outputContainer.append(newLi) // put that li into output containtainer\n",
    "    alert(\"Submitted!\");\n",
    "}) // could put all of this into a function"
   ]
  },
  {
   "cell_type": "markdown",
   "metadata": {},
   "source": [
    "### Input and Change Events"
   ]
  },
  {
   "cell_type": "code",
   "execution_count": null,
   "metadata": {},
   "outputs": [],
   "source": [
    "let input = document.querySelector(\"input\")\n",
    "input.addEventListener(\"change\", function(e) { // this happens when you change input and then click away\n",
    "    console.log(\"changed!\")\n",
    "})\n",
    "let h1 = document.querySelector(\"h1\")\n",
    "input.addEventListener(\"input\", function(e) { // this happens when you change input at all\n",
    "    console.log(\"changed!\")\n",
    "    h1.innerText = input.value // this make the h1 say whatever the input says\n",
    "})"
   ]
  },
  {
   "cell_type": "markdown",
   "metadata": {},
   "source": [
    "### Event Bubbling and Event Delegation"
   ]
  },
  {
   "cell_type": "code",
   "execution_count": null,
   "metadata": {},
   "outputs": [],
   "source": [
    "// if theres a button in a div and both have event listeners, we might not want both to happen on click\n",
    "btn.addEventListener(\"click\", function() {\n",
    "    e.stopPropagation(); // this stops event bubbling (only lower/more specific one will run)\n",
    "})"
   ]
  },
  {
   "cell_type": "code",
   "execution_count": null,
   "metadata": {},
   "outputs": [],
   "source": [
    "outputContainer.addEventListener(\"click\", function(e) {\n",
    "    e.target.remove // to remove\n",
    "})"
   ]
  },
  {
   "cell_type": "markdown",
   "metadata": {},
   "source": [
    "## Asynchronous"
   ]
  },
  {
   "cell_type": "markdown",
   "metadata": {},
   "source": [
    "### Why Callbacks Aren't Always Great"
   ]
  },
  {
   "cell_type": "code",
   "execution_count": null,
   "metadata": {},
   "outputs": [],
   "source": [
    "setTimeout(() => {\n",
    "    document.body.style.backgroundColor = red\n",
    "    setTimeout(() => {\n",
    "        document.body.style.backgroundColor = orange\n",
    "        setTimeout(() => {\n",
    "            document.body.style.backgroundColor = yellow\n",
    "        }, 1000)\n",
    "    }, 1000)\n",
    "}, 1000)\n",
    "// very nested and gross"
   ]
  },
  {
   "cell_type": "code",
   "execution_count": null,
   "metadata": {},
   "outputs": [],
   "source": [
    "let delayedColorChange = (newColour, delay, doNext) => {\n",
    "    setTimeout(() => {\n",
    "        document.body.style.backgroundColor = newColor;\n",
    "        doNext && doNext(); // to make sure there is one, if not would be undefined??\n",
    "    }, delay)\n",
    "}\n",
    "\n",
    "delayedColorChange(\"red\", 1000, () => {\n",
    "    delayedColorChange(\"orange\", 1000, () =>{\n",
    "        delayedColorChange(\"yellow\", 1000)\n",
    "    })\n",
    "})\n",
    "// still pretty nested and gross"
   ]
  },
  {
   "cell_type": "markdown",
   "metadata": {},
   "source": [
    "### Promises"
   ]
  },
  {
   "cell_type": "code",
   "execution_count": null,
   "metadata": {},
   "outputs": [],
   "source": [
    "// makeRequest(function if success, function if failure) (this is not a promise)\n",
    "requestCallback(\"example.com\",\n",
    "    function(response) {\n",
    "    console.log(response)// can then next further successes and fails within the success\n",
    "}, function(error) {\n",
    "    console.log(error)\n",
    "})"
   ]
  },
  {
   "cell_type": "code",
   "execution_count": 2,
   "metadata": {},
   "outputs": [],
   "source": [
    "let fakeRequestPromise = (url) => { // this is a promise, acting like an API request \n",
    "    return new Promise((resolve, reject) => {\n",
    "        let rand = Math.random()\n",
    "        setTimeout(() =>{\n",
    "            if (rand < 0.5) {\n",
    "                resolve(\"Fake data here\")\n",
    "            }\n",
    "            reject(\"Request error!\")\n",
    "        }, 1000)\n",
    "    })\n",
    "}"
   ]
  },
  {
   "cell_type": "code",
   "execution_count": null,
   "metadata": {},
   "outputs": [],
   "source": [
    "fakeRequestPromise(\"yelp.com/api/coffee\").then(() => {\n",
    "        console.log(\"It worked!\") // promise resolved\n",
    "        fakeRequestPromise(\"yelp.com/api/coffee/page2\").then(() => {\n",
    "            console.log(\"It worked again!\") // then... second request\n",
    "            fakeRequestPromise(\"yelp.com/api/coffee/page3\").then(() => {\n",
    "                console.log(\"It worked three times!\")\n",
    "                })\n",
    "                .catch(() => {\n",
    "                console.log(\"So close!\")\n",
    "            })\n",
    "            .catch(() => {\n",
    "            console.log(\"Whoopsie\")\n",
    "        })\n",
    "        .catch(() => {\n",
    "        console.log(\"Oh no, error!\") // promise rejected\n",
    "        })\n",
    "    })\n",
    "// also still nested and gross..."
   ]
  },
  {
   "cell_type": "code",
   "execution_count": 7,
   "metadata": {},
   "outputs": [
    {
     "name": "stdout",
     "output_type": "stream",
     "text": [
      "It worked!\n",
      "It worked again!\n",
      "It worked a third time!\n"
     ]
    },
    {
     "data": {
      "text/plain": [
       "'Fake data here'"
      ]
     },
     "execution_count": 7,
     "metadata": {},
     "output_type": "execute_result"
    }
   ],
   "source": [
    "// instead...\n",
    "fakeRequestPromise(\"yelp.com/api/coffee\")\n",
    "    .then(() => {\n",
    "        console.log(\"It worked!\")\n",
    "        return fakeRequestPromise(\"yelp.com/api/coffee/page1\") // return v. important\n",
    "    })\n",
    "    .then(() => {\n",
    "        console.log(\"It worked again!\")\n",
    "        return fakeRequestPromise(\"yelp.com/api/coffee/page2\")\n",
    "    })\n",
    "    .then(() => {\n",
    "        console.log(\"It worked a third time!\")\n",
    "        return fakeRequestPromise(\"yelp.com/api/coffee/page3\")\n",
    "    })\n",
    "    .catch((error) => { // one catch for all of them!\n",
    "    console.log(\"Oh no, error!\") // all have the same message\n",
    "    console.log(error)\n",
    "    })\n",
    "// must prettier!"
   ]
  },
  {
   "cell_type": "code",
   "execution_count": 10,
   "metadata": {},
   "outputs": [
    {
     "name": "stdout",
     "output_type": "stream",
     "text": [
      "Resolved!\n",
      "data is: Fake data here\n"
     ]
    }
   ],
   "source": [
    "// So neatly:\n",
    "fakeRequestPromise(\"example\")\n",
    "    .then((data) => {\n",
    "        console.log(\"Resolved!\")\n",
    "        console.log(\"data is:\", data)\n",
    "    })\n",
    "    .catch((error) => {\n",
    "        console.log(\"Oh no!\", error)\n",
    "    })"
   ]
  },
  {
   "cell_type": "code",
   "execution_count": null,
   "metadata": {},
   "outputs": [],
   "source": [
    "let delayedColorChange = (color, delay) => {\n",
    "    return new Promise((resolve, reject) => {\n",
    "        setTimeout(() => {\n",
    "            document.body.style.backgroundColor = color\n",
    "            resolve()\n",
    "        }, delay)\n",
    "    })\n",
    "}"
   ]
  },
  {
   "cell_type": "code",
   "execution_count": null,
   "metadata": {},
   "outputs": [],
   "source": [
    "delayedColorChange(\"red\", 1000)\n",
    "    .then(() => delayedColorChange(\"orange\", 1000))\n",
    "    .then(() => delayedColorChange(\"yellow\", 1000))\n",
    "// much more consice than earlier"
   ]
  },
  {
   "cell_type": "markdown",
   "metadata": {},
   "source": [
    "### Async Keyword"
   ]
  },
  {
   "cell_type": "code",
   "execution_count": 13,
   "metadata": {},
   "outputs": [
    {
     "name": "stdout",
     "output_type": "stream",
     "text": [
      "undefined\n"
     ]
    }
   ],
   "source": [
    "function hello(){}\n",
    "console.log(hello())"
   ]
  },
  {
   "cell_type": "code",
   "execution_count": 14,
   "metadata": {},
   "outputs": [
    {
     "name": "stdout",
     "output_type": "stream",
     "text": [
      "Promise { undefined }\n"
     ]
    }
   ],
   "source": [
    "async function hello(){} // async keyword makes it return a promise\n",
    "console.log(hello())"
   ]
  },
  {
   "cell_type": "code",
   "execution_count": 16,
   "metadata": {},
   "outputs": [
    {
     "name": "stdout",
     "output_type": "stream",
     "text": [
      "Promise { 'hello everyone!' }\n"
     ]
    }
   ],
   "source": [
    "async function hello(){return \"hello everyone!\"}\n",
    "console.log(hello())"
   ]
  },
  {
   "cell_type": "markdown",
   "metadata": {},
   "source": [
    "### Await Keyword"
   ]
  },
  {
   "cell_type": "code",
   "execution_count": null,
   "metadata": {},
   "outputs": [],
   "source": [
    "// will pause and wait for an async function to be resolved before resuming\n",
    "async function rainbow() { // must be inside asyn function\n",
    "    await delayedColorChange(\"red\", 1000) // await means nothing else runs until this line is done\n",
    "    await delayedColorChange(\"orange\", 1000)) \n",
    "    await delayedColorChange(\"yellow\", 1000))\n",
    "}\n",
    "// much more consice than earlier"
   ]
  },
  {
   "cell_type": "markdown",
   "metadata": {},
   "source": [
    "## AJAX and APIs"
   ]
  },
  {
   "cell_type": "code",
   "execution_count": null,
   "metadata": {},
   "outputs": [],
   "source": [
    "let parsedData = JSON.parse(data) \n",
    "// this turns the long messy string on data into an object\n",
    "parsedData.price // this means you can access specific data"
   ]
  },
  {
   "cell_type": "code",
   "execution_count": null,
   "metadata": {},
   "outputs": [],
   "source": [
    "// can also turn objects into JSON (for sending to API) using:\n",
    "JSON.stringify(object)"
   ]
  },
  {
   "cell_type": "markdown",
   "metadata": {},
   "source": [
    "### Using Postman"
   ]
  },
  {
   "cell_type": "code",
   "execution_count": null,
   "metadata": {},
   "outputs": [],
   "source": [
    "// this is a commonly used program to make JSON easier to read and test"
   ]
  },
  {
   "cell_type": "markdown",
   "metadata": {},
   "source": [
    " ### The Fetch API"
   ]
  },
  {
   "cell_type": "code",
   "execution_count": 3,
   "metadata": {},
   "outputs": [
    {
     "ename": "ReferenceError",
     "evalue": "fetch is not defined",
     "execution_count": 3,
     "output_type": "error",
     "traceback": [
      "evalmachine.<anonymous>:1",
      "fetch('https://api.cryptonator.com/api/ticker/btc-usd')",
      "^",
      "",
      "ReferenceError: fetch is not defined",
      "    at evalmachine.<anonymous>:1:1",
      "    at Script.runInThisContext (vm.js:96:20)",
      "    at Object.runInThisContext (vm.js:303:38)",
      "    at run ([eval]:1054:15)",
      "    at onRunRequest ([eval]:888:18)",
      "    at onMessage ([eval]:848:13)",
      "    at process.emit (events.js:182:13)",
      "    at emit (internal/child_process.js:812:12)",
      "    at process._tickCallback (internal/process/next_tick.js:63:19)"
     ]
    }
   ],
   "source": [
    "// promise version\n",
    "fetch('https://api.cryptonator.com/api/ticker/btc-usd')\n",
    "    .then(res => {\n",
    "        console.log(\"Response, waiting to parse\", res)\n",
    "    return res.json()\n",
    "    })\n",
    "    .then(data => {\n",
    "        console.log(\"Data parsed...\", data)\n",
    "        console.log(data.ticker.price)\n",
    "    })\n",
    "    .catch(e => {\n",
    "        console.log(\"Oh no, error!\", e)\n",
    "    })"
   ]
  },
  {
   "cell_type": "code",
   "execution_count": null,
   "metadata": {},
   "outputs": [],
   "source": [
    "// async version\n",
    "let fetchBitcoinPrice = async() => {\n",
    "    try {\n",
    "        let res = await fetch('https://api.cryptonator.com/api/ticker/btc-usd')\n",
    "        let data = await res.json()\n",
    "        console.log(data.ticker.price)\n",
    "    }\n",
    "    catch(e) {\n",
    "        console.log(\"Oh no, error!\", e)\n",
    "    }\n",
    "}"
   ]
  },
  {
   "cell_type": "markdown",
   "metadata": {},
   "source": [
    "### Axios"
   ]
  },
  {
   "cell_type": "code",
   "execution_count": null,
   "metadata": {},
   "outputs": [],
   "source": [
    "// this is an external library\n",
    "// copy and paste script into <head> or anywhere before JS\n",
    "axios.get('https://api.cryptonator.com/api/ticker/btc-usd') // this will give us a promise\n",
    "    .then(res => {\n",
    "        console.log(res.data.ticker.price)\n",
    "    })\n",
    "    .catch(err => {\n",
    "        console.log(\"ERRORR!!!\", err)\n",
    "    })\n",
    "\n",
    "const fetchBitcoinData = async () => {\n",
    "    try {\n",
    "        let res = await fetch('https://api.cryptonator.com/api/ticker/btc-usd')\n",
    "        let data = await res.json()\n",
    "        console.log(data.ticker.price)\n",
    "    }\n",
    "    catch(e) {\n",
    "        console.log(\"Oh no, error!\", e)\n",
    "    }\n",
    "}"
   ]
  },
  {
   "cell_type": "code",
   "execution_count": null,
   "metadata": {},
   "outputs": [],
   "source": [
    "const getDadJoke = async () => {\n",
    "    const config = {headers: {Accept: ' application/json'}} // how to do this varies depending on API, must read instructions\n",
    "    const res = await axios.get(\"https://icanhazdadjoke.com/\", config)\n",
    "    console.log(res.data.joke) // this will give a promise\n",
    "}"
   ]
  },
  {
   "cell_type": "markdown",
   "metadata": {},
   "source": [
    "## Prototypes, Classes and OOP"
   ]
  },
  {
   "cell_type": "markdown",
   "metadata": {},
   "source": [
    "### Prototypes"
   ]
  },
  {
   "cell_type": "code",
   "execution_count": 16,
   "metadata": {},
   "outputs": [
    {
     "data": {
      "text/plain": [
       "[]"
      ]
     },
     "execution_count": 16,
     "metadata": {},
     "output_type": "execute_result"
    }
   ],
   "source": [
    "//  a prototype is a 'template' object that contains all the standard methods for that array/object/thing\n",
    "// you can list these in the console by doing...\n",
    "Array.prototype"
   ]
  },
  {
   "cell_type": "code",
   "execution_count": 10,
   "metadata": {},
   "outputs": [
    {
     "data": {
      "text/plain": [
       "'OMG!!! I LOVE YOU!!!!!!!!!'"
      ]
     },
     "execution_count": 10,
     "metadata": {},
     "output_type": "execute_result"
    }
   ],
   "source": [
    "// making my own string method (not something you'd ususally do):\n",
    "String.prototype.yell = function() {\n",
    "    return `OMG!!! ${this.toUpperCase()}!!!!!!!!!`\n",
    "}\n",
    "\"i love you\".yell()"
   ]
  },
  {
   "cell_type": "markdown",
   "metadata": {},
   "source": [
    "### Constructor Functions"
   ]
  },
  {
   "cell_type": "code",
   "execution_count": 18,
   "metadata": {},
   "outputs": [
    {
     "data": {
      "text/plain": [
       "Color { r: 255, g: 40, b: 100 }"
      ]
     },
     "execution_count": 18,
     "metadata": {},
     "output_type": "execute_result"
    }
   ],
   "source": [
    "// it was done like this ~ pre 2015...\n",
    "function Color(r,g,b) {\n",
    "// effectively creates blank object\n",
    "    this.r = r // 'this' refers to the newly created object\n",
    "    this.g = g\n",
    "    this.b = b\n",
    "// returns the object\n",
    "}\n",
    "\n",
    "// this adds a method into the __proto__ section of all the potential new colors\n",
    "Color.prototype.rgb = function() {\n",
    "    const {r,g,b} = this\n",
    "    return `rgb(${r}, ${g}, ${b})`\n",
    "}\n",
    "\n",
    "new Color(255, 40, 100) // all happens because of keyword 'new' \n",
    "// wait for better alternative below!"
   ]
  },
  {
   "cell_type": "markdown",
   "metadata": {},
   "source": [
    "### Classes"
   ]
  },
  {
   "cell_type": "code",
   "execution_count": 1,
   "metadata": {},
   "outputs": [],
   "source": [
    "class Color {\n",
    "    constructor(r,g,b, name){ // this will run immeadiately whenever we instanciate a new instance\n",
    "        this.r = r\n",
    "        this.g = g\n",
    "        this.b = b\n",
    "        this.name = name\n",
    "    }\n",
    "    greet() {\n",
    "        return `Hello from ${this.name}!` // this adds a method the same as above but its inside the class!\n",
    "    }\n",
    "    innerRGB() {\n",
    "        const {r,g,b} = this\n",
    "        return `${r}, ${g}, ${b}`\n",
    "    }\n",
    "    rgb() {\n",
    "        return `rgb(${this.innerRGB()})` // this runs the above function inside this function\n",
    "    }\n",
    "    rgba(a = 1.0) {\n",
    "        return `rgba(${this.innerRGB()}, ${a})`\n",
    "    }\n",
    "}\n",
    "\n",
    "let c1 = new Color(255,67,89, \"tomato\")"
   ]
  },
  {
   "cell_type": "code",
   "execution_count": 3,
   "metadata": {},
   "outputs": [
    {
     "data": {
      "text/plain": [
       "'Hello from tomato!'"
      ]
     },
     "execution_count": 3,
     "metadata": {},
     "output_type": "execute_result"
    }
   ],
   "source": [
    "c1.greet()"
   ]
  },
  {
   "cell_type": "code",
   "execution_count": 4,
   "metadata": {},
   "outputs": [
    {
     "name": "stdout",
     "output_type": "stream",
     "text": [
      "Color { r: 0, g: 0, b: 0, name: 'white' }\n",
      "Hello from white!\n"
     ]
    }
   ],
   "source": [
    "let c2 = new Color(0,0,0, \"white\")\n",
    "console.log(c2)\n",
    "console.log(c2.greet())"
   ]
  },
  {
   "cell_type": "code",
   "execution_count": 2,
   "metadata": {},
   "outputs": [
    {
     "data": {
      "text/plain": [
       "'rgba(255, 67, 89, 0.5)'"
      ]
     },
     "execution_count": 2,
     "metadata": {},
     "output_type": "execute_result"
    }
   ],
   "source": [
    "c1.rgba(0.5) "
   ]
  },
  {
   "cell_type": "markdown",
   "metadata": {},
   "source": [
    "### Extends and Super Keywords"
   ]
  },
  {
   "cell_type": "code",
   "execution_count": 2,
   "metadata": {},
   "outputs": [],
   "source": [
    "class Pet {\n",
    "    constructor(name, age) {\n",
    "        this.name = name\n",
    "        this.age = age\n",
    "    }\n",
    "    eat() {\n",
    "        return `${this.name} is eating!`\n",
    "    }\n",
    "}\n",
    "\n",
    "class Cat extends Pet { \n",
    "    constructor(name, age, livesLeft = 9) {\n",
    "        super(name, age) // inherits from parent/super class\n",
    "        this.livesLeft = livesLeft\n",
    "    }\n",
    "    meow() {\n",
    "        return \"MEOWWWW!\"\n",
    "    }\n",
    "}\n",
    "\n",
    "class Dog extends Pet { // dont need constructor as it extends all from Pet\n",
    "    bark() {\n",
    "        return \"WOOOF!\"\n",
    "    }\n",
    "    eat() {\n",
    "        return `${this.name} wolfs down his food!` // this will be called as more specific\n",
    "    }\n",
    "}\n",
    "\n",
    "let buster = new Dog (\"Buster\", 14)\n",
    "let tony = new Cat (\"Tony\", 5, 8)"
   ]
  },
  {
   "cell_type": "code",
   "execution_count": 4,
   "metadata": {},
   "outputs": [
    {
     "data": {
      "text/plain": [
       "'Buster wolfs down his food!'"
      ]
     },
     "execution_count": 4,
     "metadata": {},
     "output_type": "execute_result"
    }
   ],
   "source": [
    "buster.bark()\n",
    "buster.eat()"
   ]
  },
  {
   "cell_type": "code",
   "execution_count": 3,
   "metadata": {},
   "outputs": [
    {
     "data": {
      "text/plain": [
       "Cat { name: 'Tony', age: 5, livesLeft: 8 }"
      ]
     },
     "execution_count": 3,
     "metadata": {},
     "output_type": "execute_result"
    }
   ],
   "source": [
    "tony"
   ]
  },
  {
   "cell_type": "markdown",
   "metadata": {},
   "source": [
    "### More Examples"
   ]
  },
  {
   "cell_type": "code",
   "execution_count": 17,
   "metadata": {},
   "outputs": [
    {
     "name": "stdout",
     "output_type": "stream",
     "text": [
      "Animal {\n",
      "  reproduces: true,\n",
      "  grows: true,\n",
      "  producesEnergy: true,\n",
      "  breathes: true }\n"
     ]
    }
   ],
   "source": [
    "class LivingThing {\n",
    "  constructor(reproduces = true, grows = true, producesEnergy = true) {\n",
    "    this.reproduces = reproduces;\n",
    "    this.grows = grows;\n",
    "    this.producesEnergy = producesEnergy;\n",
    "  }\n",
    "}\n",
    "\n",
    "class Animal extends LivingThing {\n",
    "  constructor(breathes = true, reproduces, grows, producesEnergy) {\n",
    "    super();\n",
    "    this.breathes = breathes;\n",
    "  }\n",
    "}\n",
    "\n",
    "let dog = new Animal();\n",
    "\n",
    "console.log(dog);"
   ]
  },
  {
   "cell_type": "code",
   "execution_count": null,
   "metadata": {},
   "outputs": [],
   "source": [
    "class Car extends Vehicle {\n",
    "    constructor(make, model, range) {\n",
    "        super(range)\n",
    "        this.make = make;\n",
    "        this.model = model;\n",
    "        this.gears = [\"P\", \"N\", \"R\", \"D\"];\n",
    "        this.gear = this.gears[0]; // to set default gear\n",
    "        this.VIN = Car.generateVIN();\n",
    "    }\n",
    "    shift(gear) {\n",
    "        if (this.gears.includes(gear)) {\n",
    "            this.gear = gear\n",
    "        } else {\n",
    "            throw new Error(`Invalid gear: ${gear}`)\n",
    "        }\n",
    "    }\n",
    "}\n",
    "\n",
    "let car1 = new Car(\"Tesla\", \"S\"); // will run construction of class and make instance\n",
    "let car2 = new Car(\"Pergeot\", \"107\");\n",
    "\n",
    "// console.log(car1 instanceOf Car); // true\n",
    "\n",
    "console.log(car1.gear);\n",
    "car1.shift(\"D\");\n",
    "console.log(car1.gear);"
   ]
  },
  {
   "cell_type": "markdown",
   "metadata": {},
   "source": [
    "## Modules"
   ]
  },
  {
   "cell_type": "markdown",
   "metadata": {},
   "source": [
    "### File System "
   ]
  },
  {
   "cell_type": "code",
   "execution_count": null,
   "metadata": {},
   "outputs": [],
   "source": [
    "// put into a file and used for making new folders/files when ran in terminal, located wherever it is run from\n",
    "const fs = require(\"fs\")\n",
    "// fs.mkdirSync(\"Dogs\") # put into file and will make a directory when ran\n",
    "// sync runs it synchronously, nothing (just \"fs.mkdir\") will run it asynchronously\n",
    "const folderName = process.argv[2]\n",
    "// fs.writeFileSync(`${folderName}/index.html`) # this will make files inside that folder. \n",
    "// fs.writeFileSync(`${folderName}/styles.css`)\n",
    "// fs.writeFileSync(`${folderName}/app.js`)"
   ]
  },
  {
   "cell_type": "markdown",
   "metadata": {},
   "source": [
    "### Require / Exports"
   ]
  },
  {
   "cell_type": "code",
   "execution_count": null,
   "metadata": {},
   "outputs": [],
   "source": [
    "// lets say we want these function from the file \"math.js\"\n",
    "const add = (x, y) => x + y;\n",
    "const PI = 3.14159;\n",
    "const square = x => x * x;\n",
    "\n",
    "const math = { // we put them into an object\n",
    "    add: add,\n",
    "    PI: PI,\n",
    "    square: square\n",
    "}\n",
    "\n",
    "module.exports = {math} // and export\n",
    "exports = {math} // this is a shortcut, same as above, just be consistent\n",
    "\n",
    "// if just wanted one, could have done like this:\n",
    "module.exports.add = (x, y) => x + y;"
   ]
  },
  {
   "cell_type": "code",
   "execution_count": null,
   "metadata": {},
   "outputs": [],
   "source": [
    "// this goes in the file we want to import to:\n",
    "const math = require(\"./math.js\")\n",
    "math.add(2,5) // call like so \n",
    "\n",
    "const {add, PI, square} = require(\"./math.js\") // or we can restructure like this \n",
    "add(2,5) // and then can call like this"
   ]
  },
  {
   "cell_type": "code",
   "execution_count": null,
   "metadata": {},
   "outputs": [],
   "source": [
    "// if several files in a directory, all exported to \"index.js\"\n",
    "// when you require the directory (folder), it automatically requires anything exported from \"index.js\"\n",
    "// useful when working with libraries"
   ]
  },
  {
   "cell_type": "markdown",
   "metadata": {},
   "source": [
    "### NPM (Node Package Manager)"
   ]
  },
  {
   "cell_type": "code",
   "execution_count": null,
   "metadata": {},
   "outputs": [],
   "source": [
    "// into terminal while inside project (folder), exception for global, which ends with \"-g\"\n",
    "// \"npm install [package name]\"\n",
    "// example: npm install give-me-a-joke\n",
    "const jokes = require(give-me-a-joke)\n",
    "jokes.getRandomDadJoke(function(joke) {\n",
    "    console.log(joke)\n",
    "})\n",
    "// then run (\"node index.js\" in terminal) for joke!"
   ]
  },
  {
   "cell_type": "markdown",
   "metadata": {},
   "source": [
    "### Making a JSON file"
   ]
  },
  {
   "cell_type": "code",
   "execution_count": null,
   "metadata": {},
   "outputs": [],
   "source": [
    "// in project in terminal, type \"npm init\"\n",
    "// press enter to accept each default setting or type to change"
   ]
  },
  {
   "cell_type": "code",
   "execution_count": null,
   "metadata": {},
   "outputs": [],
   "source": [
    "// Now when we do \"npm install [package]\", it adds as dependency in json"
   ]
  },
  {
   "cell_type": "code",
   "execution_count": null,
   "metadata": {},
   "outputs": [],
   "source": [
    "// when cloning a project, node modules (dependencies) will not install, you will just get the json\n",
    "// to get these dependencies, just run \"npm install\" in terminal"
   ]
  },
  {
   "cell_type": "markdown",
   "metadata": {},
   "source": [
    "## Testing / Assertions"
   ]
  },
  {
   "cell_type": "code",
   "execution_count": null,
   "metadata": {},
   "outputs": [],
   "source": [
    "// Used in unit testing, etc, to ensure that parts of code blocks work as intended during development.\n",
    "// They are usually removed entirely for production code! Hence why it's good to write them in separate modules.\n",
    "// These do not actually stop the execution of code after the error in the browser environment."
   ]
  },
  {
   "cell_type": "code",
   "execution_count": 1,
   "metadata": {},
   "outputs": [
    {
     "name": "stderr",
     "output_type": "stream",
     "text": [
      "Assertion failed: Equals false so WILL log to the console.\n"
     ]
    },
    {
     "name": "stdout",
     "output_type": "stream",
     "text": [
      "I still execute.\n"
     ]
    }
   ],
   "source": [
    "let isTrue = true;\n",
    "let isFalse = false;\n",
    "console.assert(isTrue, 'Equals true so will NOT log to the console.');\n",
    "console.assert(isFalse, 'Equals false so WILL log to the console.');\n",
    "console.log(\"I still execute.\")"
   ]
  },
  {
   "cell_type": "code",
   "execution_count": 3,
   "metadata": {},
   "outputs": [
    {
     "name": "stderr",
     "output_type": "stream",
     "text": [
      "\"Error! 50 !== \"50\"\n"
     ]
    },
    {
     "name": "stdout",
     "output_type": "stream",
     "text": [
      "I still execute.\n"
     ]
    }
   ],
   "source": [
    "const assert = require('assert'); // strictEqual - NodeJS assert module\n",
    "\n",
    "try {\n",
    "  assert.strictEqual(50, 50);        // OK, nothing printed to console\n",
    "}\n",
    "catch(err) {\n",
    "  console.error(\"Error! 50 !== 50\")\n",
    "}\n",
    "    \n",
    "    \n",
    "try {\n",
    "  assert.strictEqual(50, \"50\");     // AssertionError: 50 === '50'​\n",
    "}\n",
    "catch(err) {\n",
    "  console.error('\"Error! 50 !== \"50\"')\n",
    "}\n",
    "\n",
    "console.log(\"I still execute.\")"
   ]
  },
  {
   "cell_type": "code",
   "execution_count": null,
   "metadata": {},
   "outputs": [],
   "source": [
    "// https://www.testim.io/blog/ava-testing-tutorial-a-guide-to-lightweight-testing/ can also do ava testing which is covered\n",
    "// here. This way you can check how much of your code base has actually been tested."
   ]
  },
  {
   "cell_type": "markdown",
   "metadata": {},
   "source": [
    "## Regular Expressions"
   ]
  },
  {
   "cell_type": "code",
   "execution_count": null,
   "metadata": {},
   "outputs": [],
   "source": [
    "// \"you have a problem, decide to use a regular expression, and now you have two problems\""
   ]
  },
  {
   "cell_type": "code",
   "execution_count": null,
   "metadata": {},
   "outputs": [],
   "source": [
    "// regexr.com for explanation\n",
    "let myRegExp = new RegExp();\n",
    "let myRefExp2 = /a/; // this means the same as above where a is the content\n",
    "let myRefExp2 = /\\//; // ???"
   ]
  },
  {
   "cell_type": "code",
   "execution_count": 1,
   "metadata": {},
   "outputs": [
    {
     "name": "stdout",
     "output_type": "stream",
     "text": [
      "false\n",
      "true\n",
      "true\n"
     ]
    }
   ],
   "source": [
    "let r = /abc/; // so the pattern is abc\n",
    "console.log(r.test(\"hello\")) // is the string contains an appearabnce matching the pattern of the regular expression?\n",
    "console.log(r.test(\"abcdef\"))\n",
    "console.log(r.test(\"helloabc\"))"
   ]
  },
  {
   "cell_type": "code",
   "execution_count": 3,
   "metadata": {},
   "outputs": [
    {
     "name": "stdout",
     "output_type": "stream",
     "text": [
      "true\n"
     ]
    }
   ],
   "source": [
    "let a = /[12]/; // this shows if contains one OR 2 because []\n",
    "console.log(a.test(\"hello1\"))"
   ]
  },
  {
   "cell_type": "code",
   "execution_count": 4,
   "metadata": {},
   "outputs": [
    {
     "name": "stdout",
     "output_type": "stream",
     "text": [
      "true\n"
     ]
    }
   ],
   "source": [
    "let b = /[0-9]/; // anything from 0 to 9\n",
    "console.log(b.test(\"hello7\"))"
   ]
  },
  {
   "cell_type": "code",
   "execution_count": null,
   "metadata": {},
   "outputs": [],
   "source": [
    "/\\s/ // space, tab, new line etc.\n",
    "/./ // any character?\n",
    "/\\d/ // is any number\n",
    "// capital means not eg \\S is not white space, and D is not a number\n",
    "{4} // means i want 4 of these in a row\n",
    "{4,5} // 4 or 5\n",
    "? // previous symbol must appear zero or one time, but no more (greedy)\n",
    "//  because greedy, will match these before other parts of the code ? after makes it not greedy\n",
    "+ // one or more time (greedy)\n",
    "* // zero or more (greedy)\n",
    "^ and $ // has to be at the start and end respecively\n",
    "[^] // not to whatever is after it\n",
    "\\b // word boundary - must be seperated with space, tab, new line etc.\n",
    "| // or eg. (this|that)\n",
    "/g  /// at end means global\n",
    "/i // at end means case insensitive\n",
    "replace(/.../,\"...\")\n",
    "RegExp.prototype.search(...)\n",
    "\\ // escape character - eg. / would be \\/"
   ]
  },
  {
   "cell_type": "code",
   "execution_count": null,
   "metadata": {},
   "outputs": [],
   "source": [
    "https://www.w3schools.com/jsref/jsref_obj_regexp.asp#:~:text=A%20regular%20expression%20is%20an,%2Dreplace%22%20functions%20on%20text.\n",
    "// link to what all the letters mean"
   ]
  },
  {
   "cell_type": "code",
   "execution_count": 1,
   "metadata": {},
   "outputs": [
    {
     "name": "stdout",
     "output_type": "stream",
     "text": [
      "false\n"
     ]
    }
   ],
   "source": [
    "let dates = /^[0-9][0-9]-[0-9][0-9]-[0-9][0-9][0-9][0-9]\\s[0-9][0-9]:[0-9][0-9]$/ // $ can mean end of line or end of string, ^ means beginning\n",
    "console.log(dates.test(\"01-10-202sdsdsd0 12:20\"))"
   ]
  },
  {
   "cell_type": "code",
   "execution_count": 1,
   "metadata": {},
   "outputs": [
    {
     "name": "stdout",
     "output_type": "stream",
     "text": [
      "true\n"
     ]
    }
   ],
   "source": [
    "let same =  /^\\d\\d-\\d\\d-\\d{4}\\s\\d\\d:\\d\\d$/\n",
    "console.log(same.test(\"01-10-2020 12:20\"))"
   ]
  },
  {
   "cell_type": "code",
   "execution_count": 1,
   "metadata": {},
   "outputs": [
    {
     "name": "stdout",
     "output_type": "stream",
     "text": [
      "true\n"
     ]
    }
   ],
   "source": [
    "console.log(/colou?r/.test(\"color\")) // \"u\" can be zero or 1 times"
   ]
  },
  {
   "cell_type": "code",
   "execution_count": 2,
   "metadata": {},
   "outputs": [
    {
     "name": "stdout",
     "output_type": "stream",
     "text": [
      "false\n"
     ]
    }
   ],
   "source": [
    "console.log(/colou?r/.test(\"Color\")) // case sensitive"
   ]
  },
  {
   "cell_type": "code",
   "execution_count": 4,
   "metadata": {},
   "outputs": [
    {
     "name": "stdout",
     "output_type": "stream",
     "text": [
      "true\n"
     ]
    }
   ],
   "source": [
    "console.log(/[Cc]olou?r/.test(\"Color\"))"
   ]
  },
  {
   "cell_type": "code",
   "execution_count": 3,
   "metadata": {},
   "outputs": [
    {
     "name": "stdout",
     "output_type": "stream",
     "text": [
      "true\n"
     ]
    }
   ],
   "source": [
    "console.log(/colou?r/i.test(\"Color\")) // \"i\" after the \"/\" is a flag, it makes it case insensitive"
   ]
  },
  {
   "cell_type": "code",
   "execution_count": 5,
   "metadata": {},
   "outputs": [
    {
     "name": "stdout",
     "output_type": "stream",
     "text": [
      "true\n"
     ]
    }
   ],
   "source": [
    "console.log(/boo(hoo)+/.test(\"boohoohoo\")) // can group parts in ()"
   ]
  },
  {
   "cell_type": "code",
   "execution_count": 1,
   "metadata": {},
   "outputs": [
    {
     "name": "stdout",
     "output_type": "stream",
     "text": [
      "[ '\\'hello\\'',\n",
      "  index: 9,\n",
      "  input: 'she said \\'hello\\'',\n",
      "  groups: undefined ]\n"
     ]
    }
   ],
   "source": [
    "let matches = /'.*'/.exec(\"she said 'hello'\") // pulling out the matches (array)\n",
    "console.log(matches)"
   ]
  },
  {
   "cell_type": "code",
   "execution_count": 1,
   "metadata": {},
   "outputs": [
    {
     "name": "stdout",
     "output_type": "stream",
     "text": [
      "01-02-2020\n",
      "12:20\n",
      "{ days: '01', months: '02', years: '2020' }\n"
     ]
    }
   ],
   "source": [
    "let input = \"01-02-2020 12:20\"\n",
    "let date = /^\\d\\d-\\d\\d-\\d{4}/.exec(input)\n",
    "let time = /\\d\\d:\\d\\d$/.exec(input)\n",
    "\n",
    "console.log(date[0])\n",
    "console.log(time[0])\n",
    "\n",
    "let day = /^\\d\\d/.exec(input)\n",
    "let month = /(?<=\\d\\d-)(\\d\\d)/.exec(input) // \"?<=\" is a positive look behind, meaning this is required to be before it (but wont be included)\n",
    "// look up positive and negative look behind and ahead if needed\n",
    "let year = /\\d{4}/.exec(input)\n",
    "\n",
    "let dateBreakdown = {\n",
    "  days: day[0],\n",
    "  months: month[0],\n",
    "  years: year[0]\n",
    "}\n",
    "\n",
    "console.log(dateBreakdown)"
   ]
  },
  {
   "cell_type": "code",
   "execution_count": 1,
   "metadata": {},
   "outputs": [
    {
     "name": "stdout",
     "output_type": "stream",
     "text": [
      "{ days: '01',\n",
      "  months: '02',\n",
      "  years: '2020',\n",
      "  hours: '12',\n",
      "  minutes: '20' }\n"
     ]
    }
   ],
   "source": [
    "// could also be done like this ...\n",
    "let input = \"01-02-2020 12:20\";\n",
    "let dateTime = /^(\\d\\d)-(\\d\\d)-(\\d{4})\\s(\\d\\d):(\\d\\d)$/;\n",
    "let [myDate, day, month, year, hour, minute] = dateTime.exec(input);\n",
    "\n",
    "let dateObj = {\n",
    "    days: day,\n",
    "    months: month,\n",
    "    years: year,\n",
    "    hours: hour,\n",
    "    minutes: minute\n",
    "}\n",
    "// could have also used built in object \"Date\"\n",
    "\n",
    "console.log(dateObj)"
   ]
  }
 ],
 "metadata": {
  "kernelspec": {
   "display_name": "Javascript (Node.js)",
   "language": "javascript",
   "name": "javascript"
  },
  "language_info": {
   "file_extension": ".js",
   "mimetype": "application/javascript",
   "name": "javascript",
   "version": "10.13.0"
  },
  "toc-autonumbering": false,
  "toc-showcode": false,
  "toc-showmarkdowntxt": false,
  "toc-showtags": false
 },
 "nbformat": 4,
 "nbformat_minor": 4
}
